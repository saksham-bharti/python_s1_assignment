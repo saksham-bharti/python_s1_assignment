{
 "cells": [
  {
   "cell_type": "markdown",
   "metadata": {},
   "source": [
    "Given a list of positive integers, find the factorial of all the numbers."
   ]
  },
  {
   "cell_type": "code",
   "execution_count": 1,
   "metadata": {},
   "outputs": [
    {
     "name": "stdout",
     "output_type": "stream",
     "text": [
      "factorial of 1 is 1\n",
      "factorial of 2 is 2\n",
      "factorial of 3 is 6\n",
      "factorial of 4 is 24\n",
      "factorial of 5 is 120\n",
      "factorial of 6 is 720\n",
      "factorial of 8 is 40320\n",
      "factorial of 9 is 362880\n"
     ]
    }
   ],
   "source": [
    "#take a random list as input\n",
    "list_1=[1,2,3,4,5,6,8,9]\n",
    "\n",
    "\n",
    "#iterate through elements in list_1\n",
    "for elem in list_1:\n",
    "    #reseting the value of pdt each time after running loop\n",
    "    pdt=1\n",
    "    #iterate through numbers in range of \n",
    "    for x in range(1,elem+1):\n",
    "        #multiply all numbers in range elem with pdt and update the value of pdt\n",
    "        pdt=pdt*x\n",
    "\n",
    "    print('factorial of',elem,'is', pdt)"
   ]
  }
 ],
 "metadata": {
  "kernelspec": {
   "display_name": "Python 3",
   "language": "python",
   "name": "python3"
  },
  "language_info": {
   "codemirror_mode": {
    "name": "ipython",
    "version": 3
   },
   "file_extension": ".py",
   "mimetype": "text/x-python",
   "name": "python",
   "nbconvert_exporter": "python",
   "pygments_lexer": "ipython3",
   "version": "3.11.4"
  }
 },
 "nbformat": 4,
 "nbformat_minor": 2
}
