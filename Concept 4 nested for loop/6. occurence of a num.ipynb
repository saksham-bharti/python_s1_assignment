{
 "cells": [
  {
   "cell_type": "markdown",
   "metadata": {},
   "source": [
    "Given a list of numbers, find out how many times each number occurs in the list."
   ]
  },
  {
   "cell_type": "code",
   "execution_count": 1,
   "metadata": {},
   "outputs": [
    {
     "name": "stdout",
     "output_type": "stream",
     "text": [
      "number of times 5 is in list is 0\n"
     ]
    }
   ],
   "source": [
    "#method 1\n",
    "\n",
    "\n",
    "#taking a random list\n",
    "listp=[12,56,569 ,563,12,12,36,36,36,36]\n",
    "#making its copy so that we can apply our operations on that list\n",
    "list_copy=listp.copy()\n",
    "\n",
    "#take input from user about which numbers repetition wants to print\n",
    "num1=int(input('enter the number you want to know :'))\n",
    "\n",
    "#initializing a variable count to count the number of repetition\n",
    "count=0\n",
    "\n",
    "#iterating through numbers in range of length of list_copy \n",
    "for i in range(len(list_copy)):\n",
    "\n",
    "    #check for that input in the list\n",
    "    if num1 in list_copy:\n",
    "        #if present in list then remove it from list\n",
    "        list_copy.remove(num1)\n",
    "        #and increase the count with 1\n",
    "        count+=1\n",
    "\n",
    "        \n",
    "print('number of times', num1 ,'is in list is', count)\n",
    "\n"
   ]
  },
  {
   "cell_type": "code",
   "execution_count": 2,
   "metadata": {},
   "outputs": [
    {
     "name": "stdout",
     "output_type": "stream",
     "text": [
      "frequency of 3 is 4\n"
     ]
    }
   ],
   "source": [
    "#method 2\n",
    "\n",
    "list6=[23,2,7,3,8,3,2,7,78,34,62,3,78,8,9,6,2,2,7,3]\n",
    "num=int(input(\"enter the number for frequency\"))\n",
    "freq=0\n",
    "for elems in list6:\n",
    "    if num==elems:\n",
    "        freq+=1\n",
    "print(\"frequency of\",num, \"is\",freq)"
   ]
  }
 ],
 "metadata": {
  "kernelspec": {
   "display_name": "Python 3",
   "language": "python",
   "name": "python3"
  },
  "language_info": {
   "codemirror_mode": {
    "name": "ipython",
    "version": 3
   },
   "file_extension": ".py",
   "mimetype": "text/x-python",
   "name": "python",
   "nbconvert_exporter": "python",
   "pygments_lexer": "ipython3",
   "version": "3.11.4"
  }
 },
 "nbformat": 4,
 "nbformat_minor": 2
}
