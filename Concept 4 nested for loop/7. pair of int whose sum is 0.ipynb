{
 "cells": [
  {
   "cell_type": "markdown",
   "metadata": {},
   "source": [
    "Given a list of integers, find all pairs of integers in the list whose sum is zero."
   ]
  },
  {
   "cell_type": "code",
   "execution_count": 2,
   "metadata": {},
   "outputs": [
    {
     "name": "stdout",
     "output_type": "stream",
     "text": [
      "pairs which sum is zero [(5, -5), (6, -6), (6, -6), (6, -6), (6, -6), (5, -5), (-4, 4)]\n"
     ]
    }
   ],
   "source": [
    "list7=[15,45,45,5,6,2,3,6,5,-4,-5,-6,4,66,-6,2]\n",
    "lst_pair=[]\n",
    "for i in range(len(list7)):\n",
    "    #iterating through each element of list7 begin from i, just to avoid the repeatation\n",
    "    for j in range(i,len(list7)):    \n",
    "        #checking for sum==0 \n",
    "        if list7[i]+list7[j]==0:\n",
    "            #appending the pairs\n",
    "            lst_pair.append((list7[i],list7[j]))\n",
    "print(\"pairs which sum is zero\",lst_pair)"
   ]
  }
 ],
 "metadata": {
  "kernelspec": {
   "display_name": "Python 3",
   "language": "python",
   "name": "python3"
  },
  "language_info": {
   "codemirror_mode": {
    "name": "ipython",
    "version": 3
   },
   "file_extension": ".py",
   "mimetype": "text/x-python",
   "name": "python",
   "nbconvert_exporter": "python",
   "pygments_lexer": "ipython3",
   "version": "3.11.4"
  }
 },
 "nbformat": 4,
 "nbformat_minor": 2
}
