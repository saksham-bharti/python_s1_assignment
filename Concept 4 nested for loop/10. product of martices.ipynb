{
 "cells": [
  {
   "cell_type": "markdown",
   "metadata": {},
   "source": [
    "Given two 3x3 matrices with values stored in two lists of length 9, find their product."
   ]
  },
  {
   "cell_type": "code",
   "execution_count": 1,
   "metadata": {},
   "outputs": [
    {
     "name": "stdout",
     "output_type": "stream",
     "text": [
      "[[39, 45, 51], [99, 117, 135], [169, 200, 231]]\n"
     ]
    }
   ],
   "source": [
    "# mmethod 1 (general method )\n",
    "\n",
    "mat1=[[1,2,3],[5,6,7],[9,10,12]]\n",
    "mat2=[[1,2,3],[4,5,6],[10,11,12]]\n",
    "mat_pdt=[]\n",
    "for i in range(len(mat1)):\n",
    "    blank=[]\n",
    "    for j in range(len(mat1)):\n",
    "        #new variable to take sum , and updating it to 0 each time\n",
    "        s1=0\n",
    "        for k in range(len(mat2)):\n",
    "            #adding the multiplied numbering \n",
    "            s1+=mat1[i][k]*mat2[k][j]\n",
    "        #appending sum to blank list\n",
    "        blank.append(s1)\n",
    "    #finally appending blank list to final matrix\n",
    "    mat_pdt.append(blank)\n",
    "print(mat_pdt)"
   ]
  }
 ],
 "metadata": {
  "kernelspec": {
   "display_name": "Python 3",
   "language": "python",
   "name": "python3"
  },
  "language_info": {
   "codemirror_mode": {
    "name": "ipython",
    "version": 3
   },
   "file_extension": ".py",
   "mimetype": "text/x-python",
   "name": "python",
   "nbconvert_exporter": "python",
   "pygments_lexer": "ipython3",
   "version": "3.11.4"
  }
 },
 "nbformat": 4,
 "nbformat_minor": 2
}
