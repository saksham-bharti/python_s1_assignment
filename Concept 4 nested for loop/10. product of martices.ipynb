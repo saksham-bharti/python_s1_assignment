{
 "cells": [
  {
   "cell_type": "markdown",
   "metadata": {},
   "source": [
    "Given two 3x3 matrices with values stored in two lists of length 9, find their product."
   ]
  },
  {
   "cell_type": "code",
   "execution_count": 1,
   "metadata": {},
   "outputs": [
    {
     "name": "stdout",
     "output_type": "stream",
     "text": [
      "[[85, 93, 93], [94, 120, 135], [58, 84, 101]]\n"
     ]
    }
   ],
   "source": [
    "m1=[[5,9,6],  # define matrix m1\n",
    "    [8,6,9],\n",
    "    [6,2,7]]\n",
    "m2=[[8,6,6],  # define matrix m2\n",
    "    [5,3,1],\n",
    "    [0,6,9]]\n",
    "m3=[[0,0,0],  # initialize matrix m3 with zeros\n",
    "    [0,0,0],\n",
    "    [0,0,0]]\n",
    "for i in range(len(m1)):  # iterate over rows of m1\n",
    "    for j in range(len(m2[0])):  # iterate over columns of m2\n",
    "        for k in range(len(m2)):  # iterate over rows of m2\n",
    "            m3[i][j]+=m1[i][k]*m2[k][j]  # multiplying elements of m1, m2 and adding to m3\n",
    "\n",
    "print(m3)  # print the result\n"
   ]
  }
 ],
 "metadata": {
  "kernelspec": {
   "display_name": "Python 3",
   "language": "python",
   "name": "python3"
  },
  "language_info": {
   "codemirror_mode": {
    "name": "ipython",
    "version": 3
   },
   "file_extension": ".py",
   "mimetype": "text/x-python",
   "name": "python",
   "nbconvert_exporter": "python",
   "pygments_lexer": "ipython3",
   "version": "3.11.4"
  }
 },
 "nbformat": 4,
 "nbformat_minor": 2
}
