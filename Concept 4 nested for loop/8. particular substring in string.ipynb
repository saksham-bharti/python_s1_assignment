{
 "cells": [
  {
   "cell_type": "markdown",
   "metadata": {},
   "source": [
    "Given a string input, find out if it contains a particular substring."
   ]
  },
  {
   "cell_type": "code",
   "execution_count": 3,
   "metadata": {},
   "outputs": [
    {
     "name": "stdout",
     "output_type": "stream",
     "text": [
      "kno\n",
      "str1 contains the kno\n"
     ]
    }
   ],
   "source": [
    "str1=\"i live in  Lucknow\"\n",
    "#taking input from user about the substring\n",
    "substr=input(\"enter the sub string \")\n",
    "\n",
    "print(substr)\n",
    "\n",
    "#checking for substring in str1\n",
    "if substr in str1:\n",
    "    print(f\" {substr} is present in given string\")\n",
    "else:\n",
    "    print(f\"s {substr} is not present in the given string\")"
   ]
  }
 ],
 "metadata": {
  "kernelspec": {
   "display_name": "Python 3",
   "language": "python",
   "name": "python3"
  },
  "language_info": {
   "codemirror_mode": {
    "name": "ipython",
    "version": 3
   },
   "file_extension": ".py",
   "mimetype": "text/x-python",
   "name": "python",
   "nbconvert_exporter": "python",
   "pygments_lexer": "ipython3",
   "version": "3.11.4"
  }
 },
 "nbformat": 4,
 "nbformat_minor": 2
}
