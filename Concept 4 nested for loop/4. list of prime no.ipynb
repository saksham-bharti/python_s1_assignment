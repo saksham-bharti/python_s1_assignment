{
 "cells": [
  {
   "cell_type": "markdown",
   "metadata": {},
   "source": [
    "Given a positive integer, find out all prime numbers from 1 up to this number."
   ]
  },
  {
   "cell_type": "code",
   "execution_count": 18,
   "metadata": {},
   "outputs": [
    {
     "name": "stdout",
     "output_type": "stream",
     "text": [
      "-----------\n",
      "-----------\n",
      "2\n",
      "-----------\n",
      "2\n",
      "-----------\n",
      "2\n",
      "-----------\n",
      "2\n",
      "-----------\n",
      "2\n",
      "-----------\n",
      "2\n",
      "3\n",
      "-----------\n",
      "2\n",
      "3\n",
      "-----------\n",
      "2\n",
      "3\n",
      "-----------\n",
      "2\n",
      "3\n",
      "-----------\n",
      "2\n",
      "3\n",
      "-----------\n",
      "2\n",
      "3\n",
      "-----------\n",
      "2\n",
      "3\n",
      "-----------\n",
      "[]\n"
     ]
    }
   ],
   "source": [
    "\n",
    "num1=int(input('enter your desired no'))\n",
    "\n",
    "list1=[]\n",
    "count=0\n",
    "\n",
    "for numb in range(2,num1+1):\n",
    "    for x in range(2,(int(numb**0.5))+1):\n",
    "            print(x)\n",
    "print(list1)\n",
    "        "
   ]
  }
 ],
 "metadata": {
  "kernelspec": {
   "display_name": "Python 3",
   "language": "python",
   "name": "python3"
  },
  "language_info": {
   "codemirror_mode": {
    "name": "ipython",
    "version": 3
   },
   "file_extension": ".py",
   "mimetype": "text/x-python",
   "name": "python",
   "nbconvert_exporter": "python",
   "pygments_lexer": "ipython3",
   "version": "3.11.4"
  }
 },
 "nbformat": 4,
 "nbformat_minor": 2
}
