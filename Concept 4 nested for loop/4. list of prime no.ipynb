{
 "cells": [
  {
   "cell_type": "markdown",
   "metadata": {},
   "source": [
    "Given a positive integer, find out all prime numbers from 1 up to this number."
   ]
  },
  {
   "cell_type": "code",
   "execution_count": 1,
   "metadata": {},
   "outputs": [
    {
     "name": "stdout",
     "output_type": "stream",
     "text": [
      "[2, 3, 5, 7, 11, 13, 17, 19, 23, 29, 31, 37, 41, 43, 47, 53, 59, 61, 67, 71, 73, 79, 83, 89, 97]\n"
     ]
    }
   ],
   "source": [
    "#take input from user\n",
    "num1=int(input('enter your desired no'))\n",
    "#initializing a new list\n",
    "list1=[]\n",
    "\n",
    "#iterating through each numb in range of num1\n",
    "for numb in range(2,num1+1):\n",
    "    #initailizing a new variable to count the no times dision occurs\n",
    "    count=0\n",
    "     #iterating through each x in range of numb\n",
    "    for x in range(2,(int(numb**0.5))+1):\n",
    "            #checking for remainder 0\n",
    "            if numb%x==0:\n",
    "                  #updating the value of count\n",
    "                  count+=1\n",
    "    if count==0:\n",
    "          #if count is 0 then it is prime number , so append it in list\n",
    "          list1.append(numb)\n",
    "\n",
    "print(list1)\n",
    "        "
   ]
  }
 ],
 "metadata": {
  "kernelspec": {
   "display_name": "Python 3",
   "language": "python",
   "name": "python3"
  },
  "language_info": {
   "codemirror_mode": {
    "name": "ipython",
    "version": 3
   },
   "file_extension": ".py",
   "mimetype": "text/x-python",
   "name": "python",
   "nbconvert_exporter": "python",
   "pygments_lexer": "ipython3",
   "version": "3.11.4"
  }
 },
 "nbformat": 4,
 "nbformat_minor": 2
}
