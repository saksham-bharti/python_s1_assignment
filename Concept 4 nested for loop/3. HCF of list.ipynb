{
 "cells": [
  {
   "cell_type": "markdown",
   "metadata": {},
   "source": [
    "Given two numbers, find its Greatest Common Divisor (Divisor)."
   ]
  },
  {
   "cell_type": "code",
   "execution_count": 1,
   "metadata": {},
   "outputs": [
    {
     "name": "stdout",
     "output_type": "stream",
     "text": [
      "HCF of the numbers is : 1\n"
     ]
    }
   ],
   "source": [
    "#take input from the user\n",
    "num1=int(input('enter first no'))\n",
    "num2=int(input('enter second no'))\n",
    "\n",
    "#taking a variable\n",
    "fact=1\n",
    "\n",
    "#assigning the value of smallest input to hcf variable using if and conditional clauses\n",
    "#this can also be find out using min fucntion\n",
    "if num1<num2:\n",
    "    smll=num1\n",
    "else:\n",
    "    smll=num2\n",
    "\n",
    "#iterating through numbers in range of hcf+1\n",
    "for num in range(1,smll+1):\n",
    "    #for factors. dividing by num if both leaves the remainder 0 then it is a factor\n",
    "    if num1%num==0 and num2%num==0:\n",
    "        #update the value of fact with the factor \n",
    "       fact=num\n",
    "\n",
    "print(\"HCF of the numbers is :\", fact)"
   ]
  }
 ],
 "metadata": {
  "kernelspec": {
   "display_name": "Python 3",
   "language": "python",
   "name": "python3"
  },
  "language_info": {
   "codemirror_mode": {
    "name": "ipython",
    "version": 3
   },
   "file_extension": ".py",
   "mimetype": "text/x-python",
   "name": "python",
   "nbconvert_exporter": "python",
   "pygments_lexer": "ipython3",
   "version": "3.11.4"
  }
 },
 "nbformat": 4,
 "nbformat_minor": 2
}
