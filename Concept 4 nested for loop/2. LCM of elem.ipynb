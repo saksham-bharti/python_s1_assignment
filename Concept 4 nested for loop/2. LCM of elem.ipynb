{
 "cells": [
  {
   "cell_type": "markdown",
   "metadata": {},
   "source": [
    "Given two numbers, find its Least common Multiple(LCM)"
   ]
  },
  {
   "cell_type": "code",
   "execution_count": 3,
   "metadata": {},
   "outputs": [
    {
     "name": "stdout",
     "output_type": "stream",
     "text": [
      "10\n"
     ]
    }
   ],
   "source": [
    "#take input from the user\n",
    "num1=int(input('enter first no'))\n",
    "num2=int(input('enter second no'))\n",
    "\n",
    "#assigning the value of smallest input to great variable using if and conditional clauses\n",
    "if num1<num2:\n",
    "    great =num2\n",
    "else:\n",
    "    great =num1\n",
    "\n",
    "#multiply inputs with each other\n",
    "multi=(num1*num2)\n",
    "#initializing a variable out\n",
    "out=1\n",
    "\n",
    "\n",
    "#iterating through numbers in range of great and multi+1 with difference of great(slicing)\n",
    "for numb in range(great,multi+1, great):\n",
    "    #for multiples dividing num by num1 and num2, if both leaves the remainder 0 then it is a multiple\n",
    "    if numb%num1==0 and numb%num2==0:\n",
    "        #assign the value of num(which is multiple) to another variable\n",
    "        out=numb\n",
    "        #when get our first number, stop the loop because first one will be the smallest multiple\n",
    "        break\n",
    "    \n",
    "print(out)"
   ]
  }
 ],
 "metadata": {
  "kernelspec": {
   "display_name": "Python 3",
   "language": "python",
   "name": "python3"
  },
  "language_info": {
   "codemirror_mode": {
    "name": "ipython",
    "version": 3
   },
   "file_extension": ".py",
   "mimetype": "text/x-python",
   "name": "python",
   "nbconvert_exporter": "python",
   "pygments_lexer": "ipython3",
   "version": "3.11.4"
  }
 },
 "nbformat": 4,
 "nbformat_minor": 2
}
