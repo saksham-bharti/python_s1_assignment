{
 "cells": [
  {
   "cell_type": "markdown",
   "metadata": {},
   "source": [
    "Given two integers, find the larger one."
   ]
  },
  {
   "cell_type": "code",
   "execution_count": 2,
   "metadata": {},
   "outputs": [
    {
     "name": "stdout",
     "output_type": "stream",
     "text": [
      "450.468761 is greater number\n"
     ]
    }
   ],
   "source": [
    "#taking input from user\n",
    "num1=float(input(\"enter your first number\"))\n",
    "num2=float(input(\"enter your second number\"))\n",
    "\n",
    "#check for equality of numbers\n",
    "if num1==num2:\n",
    "    print('the numbers are equal')\n",
    "\n",
    "\n",
    "#check for greater no. using arithmatic operations \n",
    "elif num1>num2:                                 \n",
    "    print(num1,\"is greater number\")\n",
    "else:\n",
    "    print(num2,'is greater number')"
   ]
  }
 ],
 "metadata": {
  "kernelspec": {
   "display_name": "Python 3",
   "language": "python",
   "name": "python3"
  },
  "language_info": {
   "codemirror_mode": {
    "name": "ipython",
    "version": 3
   },
   "file_extension": ".py",
   "mimetype": "text/x-python",
   "name": "python",
   "nbconvert_exporter": "python",
   "pygments_lexer": "ipython3",
   "version": "3.11.4"
  }
 },
 "nbformat": 4,
 "nbformat_minor": 2
}
