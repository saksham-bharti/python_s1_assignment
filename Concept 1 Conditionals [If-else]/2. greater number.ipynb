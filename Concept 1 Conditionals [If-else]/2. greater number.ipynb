{
 "cells": [
  {
   "cell_type": "markdown",
   "metadata": {},
   "source": [
    "Given two integers, find the larger one."
   ]
  },
  {
   "cell_type": "code",
   "execution_count": 5,
   "metadata": {},
   "outputs": [
    {
     "data": {
      "text/plain": [
       "(6, 'is greater number')"
      ]
     },
     "execution_count": 5,
     "metadata": {},
     "output_type": "execute_result"
    }
   ],
   "source": [
    "def greater(num1,num2):\n",
    "    #check for equality of numbers\n",
    "    if num1==num2:\n",
    "        return('the numbers are equal')\n",
    "    #check for greater no. using arithmatic operations \n",
    "    elif num1>num2:                                 \n",
    "        return(num1,\"is greater number\")\n",
    "    else:\n",
    "        return(num2,'is greater number')\n",
    "    \n",
    "greater(int(input(\"enter your first number\")),int(input(\"enter your second number\")))"
   ]
  }
 ],
 "metadata": {
  "kernelspec": {
   "display_name": "Python 3",
   "language": "python",
   "name": "python3"
  },
  "language_info": {
   "codemirror_mode": {
    "name": "ipython",
    "version": 3
   },
   "file_extension": ".py",
   "mimetype": "text/x-python",
   "name": "python",
   "nbconvert_exporter": "python",
   "pygments_lexer": "ipython3",
   "version": "3.11.4"
  }
 },
 "nbformat": 4,
 "nbformat_minor": 2
}
