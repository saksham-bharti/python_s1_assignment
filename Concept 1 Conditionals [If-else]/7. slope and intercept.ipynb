{
 "cells": [
  {
   "cell_type": "markdown",
   "metadata": {},
   "source": [
    "Given two points (x1, y1) and (x2, y2), find the slope and intercept of the line joining these two points (the line may be perfectly horizontal or vertical)."
   ]
  },
  {
   "cell_type": "code",
   "execution_count": 6,
   "metadata": {},
   "outputs": [
    {
     "name": "stdout",
     "output_type": "stream",
     "text": [
      "slope of the line is  24.562992125984252\n",
      "intercept of the line is  6239.0\n"
     ]
    }
   ],
   "source": [
    "#taking input of coordinates from the user\n",
    "x1=float(input('enter x1 coordinate '))\n",
    "y1=float(input('enter y1 coordinate '))\n",
    "x2=float(input('enter x2 coordinate '))\n",
    "y2=float(input('enter y2 coordinate '))\n",
    "\n",
    "#check whether the numbers are equal or not\n",
    "if x1==x2 and y1==y2:\n",
    "    print('both the points are same ')\n",
    "\n",
    "elif x2-x1==0:\n",
    "    #if demoninator in slope formula is 0 that implies slope is zero i.e. horizontal line\n",
    "    print('the line is horizontal')\n",
    "elif y2-y1==0:\n",
    "    # if numerator in slope formula is 0 that implies slope is infinite i.e. vertical line\n",
    "    print('the line is vertical')\n",
    "else:\n",
    "    #apply the formula of slope to find the slope\n",
    "    slope=(y2-y1)/(x2-x1)\n",
    "    print('slope of the line is ', slope)\n",
    "    \n",
    "#intercept formula to find the intercept\n",
    "intercept=(x2-x1)*slope\n",
    "\n",
    "print(\"intercept of the line is \", intercept)"
   ]
  }
 ],
 "metadata": {
  "kernelspec": {
   "display_name": "Python 3",
   "language": "python",
   "name": "python3"
  },
  "language_info": {
   "codemirror_mode": {
    "name": "ipython",
    "version": 3
   },
   "file_extension": ".py",
   "mimetype": "text/x-python",
   "name": "python",
   "nbconvert_exporter": "python",
   "pygments_lexer": "ipython3",
   "version": "3.11.4"
  }
 },
 "nbformat": 4,
 "nbformat_minor": 2
}
