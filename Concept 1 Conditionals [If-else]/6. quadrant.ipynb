{
 "cells": [
  {
   "cell_type": "markdown",
   "metadata": {},
   "source": [
    "Given a point (x1, y1), find the quadrant in which this point lies."
   ]
  },
  {
   "cell_type": "code",
   "execution_count": 2,
   "metadata": {},
   "outputs": [
    {
     "name": "stdout",
     "output_type": "stream",
     "text": [
      "print lie on 1st quadrant\n"
     ]
    }
   ],
   "source": [
    "#taking input of coordinates from user\n",
    "x=float(input('enter x coordinate '))\n",
    "y=float(input('enter y coordinate '))\n",
    "\n",
    "# using if else ladder to find out the quadrants of the coordinates\n",
    "#checking the nature of abscissa and ordinate and then finding which condition or the quadrant they fits\n",
    "if x==0 and y==0:\n",
    "    print(\"print lie on origin\")\n",
    "elif x>0 and y>0:\n",
    "    print(\"print lie on 1st quadrant\")\n",
    "elif x>0 and y<0:\n",
    "    print(\"print lie on 2nd quadrant\")\n",
    "elif x<0 and y<0:\n",
    "    print(\"print lie on 3rd quadrant\")\n",
    "else:\n",
    "    print(\"print lie on 4th quadrant\")"
   ]
  }
 ],
 "metadata": {
  "kernelspec": {
   "display_name": "Python 3",
   "language": "python",
   "name": "python3"
  },
  "language_info": {
   "codemirror_mode": {
    "name": "ipython",
    "version": 3
   },
   "file_extension": ".py",
   "mimetype": "text/x-python",
   "name": "python",
   "nbconvert_exporter": "python",
   "pygments_lexer": "ipython3",
   "version": "3.11.4"
  }
 },
 "nbformat": 4,
 "nbformat_minor": 2
}
