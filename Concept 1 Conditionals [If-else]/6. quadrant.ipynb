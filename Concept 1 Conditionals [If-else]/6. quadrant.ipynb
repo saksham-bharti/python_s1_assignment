{
 "cells": [
  {
   "cell_type": "markdown",
   "metadata": {},
   "source": [
    "Given a point (x1, y1), find the quadrant in which this point lies."
   ]
  },
  {
   "cell_type": "code",
   "execution_count": 2,
   "metadata": {},
   "outputs": [
    {
     "data": {
      "text/plain": [
       "'print lie on 1st quadrant'"
      ]
     },
     "execution_count": 2,
     "metadata": {},
     "output_type": "execute_result"
    }
   ],
   "source": [
    "def quadrant(x,y):\n",
    "    # using if else ladder to find out the quadrants of the coordinates\n",
    "    #checking the nature of abscissa and ordinate and then finding which condition or the quadrant they fits\n",
    "    if x==0 and y==0:\n",
    "        return(\"print lie on origin\")\n",
    "    elif x>0 and y>0:\n",
    "        return(\"print lie on 1st quadrant\")\n",
    "    elif x>0 and y<0:\n",
    "        return(\"print lie on 2nd quadrant\")\n",
    "    elif x<0 and y<0:\n",
    "        return(\"print lie on 3rd quadrant\")\n",
    "    else:\n",
    "        return(\"print lie on 4th quadrant\")\n",
    "    \n",
    "quadrant(float(input('enter x coordinate ')),float(input('enter y coordinate ')))"
   ]
  }
 ],
 "metadata": {
  "kernelspec": {
   "display_name": "Python 3",
   "language": "python",
   "name": "python3"
  },
  "language_info": {
   "codemirror_mode": {
    "name": "ipython",
    "version": 3
   },
   "file_extension": ".py",
   "mimetype": "text/x-python",
   "name": "python",
   "nbconvert_exporter": "python",
   "pygments_lexer": "ipython3",
   "version": "3.11.4"
  }
 },
 "nbformat": 4,
 "nbformat_minor": 2
}
