{
 "cells": [
  {
   "cell_type": "markdown",
   "metadata": {},
   "source": [
    "Given a quadratic equation with coefficients a, b and c, find the two solutions (may be real or complex). You should not take the square root of a nerealative number in your code"
   ]
  },
  {
   "cell_type": "code",
   "execution_count": 17,
   "metadata": {},
   "outputs": [
    {
     "name": "stdout",
     "output_type": "stream",
     "text": [
      "-503\n",
      "complex roots exist\n",
      "roots are -0.5416666666666666 + 0.9344858955002419 i   and -0.5416666666666666 - 0.9344858955002419 i\n"
     ]
    }
   ],
   "source": [
    "#Equation in the format ax2 +bx + c\n",
    "# taking inputs of a, b, c from user\n",
    "a=int(input('enter the value of a'))\n",
    "b=int(input('enter the value of b'))\n",
    "c=int(input('enter the value of c'))\n",
    "\n",
    "#find value of determinant with its formula \n",
    "d=b*b-(4*a*c)\n",
    "\n",
    "#using quadratic formula to find roots\n",
    "e=((-b)+(d**0.5))/(2*a)\n",
    "f=((-b)-(d**0.5))/(2*a)\n",
    "\n",
    "#checking for quadratic or linear \n",
    "if a!=0:\n",
    "    #equation is quadratic\n",
    "    #finding nature of roots with the nature of determinant\n",
    "    if d==0:\n",
    "        #if determinant is 0 that inplies real and equal roots\n",
    "        print('real roots exist and are equal roots',e,f)\n",
    "    elif d<0:\n",
    "        #if negative then complex roots\n",
    "        print('complex roots exist')\n",
    "        #making determinant positive by changing the (-) into (i)\n",
    "        #finding imaginary part and real part of the roots\n",
    "        real=(-b)/(2*a)\n",
    "        imag=((-d)**0.5)/(2*a)\n",
    "        print('roots are',real,'+',imag,'i','  and', real,'-',imag,'i')\n",
    "\n",
    "    else:\n",
    "        #print roots if roots exists\n",
    "        print('real roots exist')\n",
    "        print('roots are :', e,' and ', f )\n",
    "\n",
    "        \n",
    "else:\n",
    "    #equation is linear\n",
    "    print('equation is linear')\n",
    "\n",
    "    #print roots of linear equation\n",
    "    print('roots of the equation are', -c/b)"
   ]
  }
 ],
 "metadata": {
  "kernelspec": {
   "display_name": "Python 3",
   "language": "python",
   "name": "python3"
  },
  "language_info": {
   "codemirror_mode": {
    "name": "ipython",
    "version": 3
   },
   "file_extension": ".py",
   "mimetype": "text/x-python",
   "name": "python",
   "nbconvert_exporter": "python",
   "pygments_lexer": "ipython3",
   "version": "3.11.4"
  }
 },
 "nbformat": 4,
 "nbformat_minor": 2
}
