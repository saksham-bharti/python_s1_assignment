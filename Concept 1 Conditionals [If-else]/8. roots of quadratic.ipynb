{
 "cells": [
  {
   "cell_type": "markdown",
   "metadata": {},
   "source": [
    "Given a quadratic equation with coefficients a, b and c, find the two solutions (may be real or complex). You should not take the square root of a nerealative number in your code"
   ]
  },
  {
   "cell_type": "code",
   "execution_count": 13,
   "metadata": {},
   "outputs": [
    {
     "name": "stdout",
     "output_type": "stream",
     "text": [
      "complex roots exist\n",
      "roots are 0.0 + 1.118033988749895 i   and 0.0 - 1.118033988749895 i\n"
     ]
    }
   ],
   "source": [
    "def roots(a,b,c):\n",
    "    #find value of determinant with its formula \n",
    "    d=b*b-(4*a*c)\n",
    "\n",
    "    #checking for quadratic or linear \n",
    "    if a!=0:\n",
    "        #equation is quadratic\n",
    "        #using quadratic formula to find roots\n",
    "        e=((-b)+(d**0.5))/(2*a)\n",
    "        f=((-b)-(d**0.5))/(2*a)\n",
    "\n",
    "        #finding nature of roots with the nature of determinant\n",
    "        if d==0:\n",
    "            #if determinant is 0 that inplies real and equal roots\n",
    "            print('real roots exist and are equal roots',e,',',f)\n",
    "        elif d<0:\n",
    "            #if negative then complex roots\n",
    "            print('complex roots exist')\n",
    "            #making determinant positive by changing the (-) into (i)\n",
    "            #finding imaginary part and real part of the roots\n",
    "            real=(-b)/(2*a)\n",
    "            imag=((-d)**0.5)/(2*a)\n",
    "            print('roots are',real,'+',imag,'i','  and', real,'-',imag,'i')\n",
    "\n",
    "        else:\n",
    "            #print roots if roots exists\n",
    "            print('real roots exist')\n",
    "            print('roots are :', e,' and ', f )\n",
    "\n",
    "        \n",
    "    else:\n",
    "        #equation is linear\n",
    "        print('equation is linear')\n",
    "        print('roots of the equation are', -c/b)\n",
    "\n",
    "roots(int(input('enter the value of a')), int(input('enter the value of b')), int(input('enter the value of c'))\n",
    "      )"
   ]
  }
 ],
 "metadata": {
  "kernelspec": {
   "display_name": "Python 3",
   "language": "python",
   "name": "python3"
  },
  "language_info": {
   "codemirror_mode": {
    "name": "ipython",
    "version": 3
   },
   "file_extension": ".py",
   "mimetype": "text/x-python",
   "name": "python",
   "nbconvert_exporter": "python",
   "pygments_lexer": "ipython3",
   "version": "3.11.4"
  }
 },
 "nbformat": 4,
 "nbformat_minor": 2
}
