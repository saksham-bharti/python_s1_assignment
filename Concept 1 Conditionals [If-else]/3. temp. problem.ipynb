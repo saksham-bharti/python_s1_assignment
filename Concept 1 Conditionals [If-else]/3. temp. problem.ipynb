{
 "cells": [
  {
   "cell_type": "markdown",
   "metadata": {},
   "source": [
    "Given a temperature in Celsius, convert it to Fahrenheit using the formula F = (C * 1.8) + 32. If the temperature is above 90°F, print “It’s hot outside!” otherwise, print “The temperature is pleasant”."
   ]
  },
  {
   "cell_type": "code",
   "execution_count": 1,
   "metadata": {},
   "outputs": [
    {
     "name": "stdout",
     "output_type": "stream",
     "text": [
      "the temp is feh is 129.2\n"
     ]
    },
    {
     "data": {
      "text/plain": [
       "'It’s hot outside!'"
      ]
     },
     "execution_count": 1,
     "metadata": {},
     "output_type": "execute_result"
    }
   ],
   "source": [
    "def tempt(tempc):\n",
    "    #convert celsius to farhenheit\n",
    "    tempf=((9/5)*tempc)+32\n",
    "    print('the temp is feh is', tempf)\n",
    "\n",
    "    #applying conditions on temp. in farhenheit to check the whether outside\n",
    "    if tempf>90:\n",
    "        return('It’s hot outside!')\n",
    "    else:\n",
    "        return('The temperature is pleasant')\n",
    "    \n",
    "tempt(float(input('Enter the tempreature')))\n",
    "\n"
   ]
  }
 ],
 "metadata": {
  "kernelspec": {
   "display_name": "Python 3",
   "language": "python",
   "name": "python3"
  },
  "language_info": {
   "codemirror_mode": {
    "name": "ipython",
    "version": 3
   },
   "file_extension": ".py",
   "mimetype": "text/x-python",
   "name": "python",
   "nbconvert_exporter": "python",
   "pygments_lexer": "ipython3",
   "version": "3.11.4"
  }
 },
 "nbformat": 4,
 "nbformat_minor": 2
}
