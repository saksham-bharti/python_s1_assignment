{
 "cells": [
  {
   "cell_type": "markdown",
   "metadata": {},
   "source": [
    "Given three points, find out whether they lie on the same straight line or not."
   ]
  },
  {
   "cell_type": "code",
   "execution_count": 2,
   "metadata": {},
   "outputs": [
    {
     "name": "stdout",
     "output_type": "stream",
     "text": [
      "point doesnt lie on point\n"
     ]
    }
   ],
   "source": [
    "#taking input of three points from the user\n",
    "x1=float(input('enter the abscissa of first point'))\n",
    "y1=float(input('enter the coordinate of first point'))\n",
    "x2=float(input('enter the abscissa of second point'))\n",
    "y2=float(input('enter the coordinate of second point'))\n",
    "x3=float(input('enter the abscissa of fthird point'))\n",
    "y3=float(input('enter the coordinate of third point'))\n",
    "\n",
    "#finding area enclosed if we connect those three points\n",
    "area=0.5*((x1*(y2-y3))+(x2*(y3-y2))+(x3*(y1-y2)))\n",
    "\n",
    "#if area is  zero that emplies these points are on same line otherwise they form a triangle (area not equal to 0)\n",
    "if area>0:\n",
    "    print('point doesnt lie on point')\n",
    "else:\n",
    "    print(\"point lie on lie\")"
   ]
  }
 ],
 "metadata": {
  "kernelspec": {
   "display_name": "Python 3",
   "language": "python",
   "name": "python3"
  },
  "language_info": {
   "codemirror_mode": {
    "name": "ipython",
    "version": 3
   },
   "file_extension": ".py",
   "mimetype": "text/x-python",
   "name": "python",
   "nbconvert_exporter": "python",
   "pygments_lexer": "ipython3",
   "version": "3.11.4"
  }
 },
 "nbformat": 4,
 "nbformat_minor": 2
}
