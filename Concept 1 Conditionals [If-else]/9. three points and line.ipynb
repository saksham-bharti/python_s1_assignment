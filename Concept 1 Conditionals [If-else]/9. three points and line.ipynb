{
 "cells": [
  {
   "cell_type": "markdown",
   "metadata": {},
   "source": [
    "Given three points, find out whether they lie on the same straight line or not."
   ]
  },
  {
   "cell_type": "code",
   "execution_count": 12,
   "metadata": {},
   "outputs": [
    {
     "data": {
      "text/plain": [
       "\"point  doesn't  lie on lie\""
      ]
     },
     "execution_count": 12,
     "metadata": {},
     "output_type": "execute_result"
    }
   ],
   "source": [
    "def st_line(x1,y1,x2,y2,x3,y3):\n",
    "    #finding area enclosed if we connect those three points \n",
    "    area=0.5*((x1*(y2-y3))+(x2*(y3-y2))+(x3*(y1-y2)))\n",
    "\n",
    "    #if area is  zero that emplies these points are on same line otherwise they form a triangle (area not equal to 0)\n",
    "    if area==0:\n",
    "        return('point lie on point')\n",
    "    else:\n",
    "        return(\"point  doesn't  lie on lie\")\n",
    "    \n",
    "st_line(float(input('enter the abscissa of first point')),\n",
    "        float(input('enter the coordinate of first point')), \n",
    "        float(input('enter the abscissa of second point')), \n",
    "        float(input('enter the coordinate of second point')),\n",
    "        float(input('enter the abscissa of fthird point')), \n",
    "        float(input('enter the coordinate of third point')))\n",
    "        "
   ]
  }
 ],
 "metadata": {
  "kernelspec": {
   "display_name": "Python 3",
   "language": "python",
   "name": "python3"
  },
  "language_info": {
   "codemirror_mode": {
    "name": "ipython",
    "version": 3
   },
   "file_extension": ".py",
   "mimetype": "text/x-python",
   "name": "python",
   "nbconvert_exporter": "python",
   "pygments_lexer": "ipython3",
   "version": "3.11.4"
  }
 },
 "nbformat": 4,
 "nbformat_minor": 2
}
