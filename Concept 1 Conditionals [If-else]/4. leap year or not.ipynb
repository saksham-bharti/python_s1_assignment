{
 "cells": [
  {
   "cell_type": "markdown",
   "metadata": {},
   "source": [
    "Given a year, check if it is a leap year or not. A leap year is divisible by 4, except for years that are divisible by 100. However, years that are divisible by 400 are also leap years."
   ]
  },
  {
   "cell_type": "code",
   "execution_count": 5,
   "metadata": {},
   "outputs": [
    {
     "data": {
      "text/plain": [
       "' 2100 is not a leap year'"
      ]
     },
     "execution_count": 5,
     "metadata": {},
     "output_type": "execute_result"
    }
   ],
   "source": [
    "def leap_year(year):\n",
    "\n",
    "    #if so then check whether it is divisible by 100 or not\n",
    "    if year%100==0:\n",
    "        #if so then check if it is divisible by 400 or not\n",
    "        if year%400==0:\n",
    "            # #if so then it is a leap year \n",
    "            return(f'the year {year} is leap year ')\n",
    "        else:\n",
    "            return(f' {year} is not a leap year')  \n",
    "    \n",
    "    elif year%4==0:\n",
    "            #check whether input year is divisible by 4 or not\n",
    "            return(f' {year} is a leap year')\n",
    "    else:\n",
    "            return(f' {year} is not a leap year')\n",
    "\n",
    "    \n",
    "\n",
    "leap_year(int(input('enter your desired year')))"
   ]
  }
 ],
 "metadata": {
  "kernelspec": {
   "display_name": "Python 3",
   "language": "python",
   "name": "python3"
  },
  "language_info": {
   "codemirror_mode": {
    "name": "ipython",
    "version": 3
   },
   "file_extension": ".py",
   "mimetype": "text/x-python",
   "name": "python",
   "nbconvert_exporter": "python",
   "pygments_lexer": "ipython3",
   "version": "3.11.4"
  }
 },
 "nbformat": 4,
 "nbformat_minor": 2
}
