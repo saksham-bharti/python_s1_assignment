{
 "cells": [
  {
   "cell_type": "markdown",
   "metadata": {},
   "source": [
    "GIVEN A INTEGER, CHECK IF IT IS EVEN OR ODD."
   ]
  },
  {
   "cell_type": "code",
   "execution_count": 5,
   "metadata": {},
   "outputs": [
    {
     "name": "stdout",
     "output_type": "stream",
     "text": [
      "your number 45 is odd\n"
     ]
    }
   ],
   "source": [
    "#input from user\n",
    "num1=int(input('enter your desired number'))\n",
    "\n",
    "#check whether the input is zero or not\n",
    "if num1==0:\n",
    "    #if equal to 0 , then it is neither odd not even\n",
    "    print('the number is zero, which is neither even nor odd')\n",
    "\n",
    "if  num1!=0:    \n",
    "    # if not zero , then checking for 0 as remainder                                                      \n",
    "    if num1%2==0: \n",
    "        #if remainder is zero that implies even\n",
    "        print(f'your number {num1} is even')\n",
    "        #if not then odd\n",
    "    else:\n",
    "        print(f\"your number {num1} is odd\")"
   ]
  }
 ],
 "metadata": {
  "kernelspec": {
   "display_name": "Python 3",
   "language": "python",
   "name": "python3"
  },
  "language_info": {
   "codemirror_mode": {
    "name": "ipython",
    "version": 3
   },
   "file_extension": ".py",
   "mimetype": "text/x-python",
   "name": "python",
   "nbconvert_exporter": "python",
   "pygments_lexer": "ipython3",
   "version": "3.11.4"
  }
 },
 "nbformat": 4,
 "nbformat_minor": 2
}
