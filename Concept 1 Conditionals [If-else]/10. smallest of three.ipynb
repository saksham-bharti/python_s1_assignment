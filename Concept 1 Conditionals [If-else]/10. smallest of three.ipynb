{
 "cells": [
  {
   "cell_type": "markdown",
   "metadata": {},
   "source": [
    "Given three integers, find the smallest one."
   ]
  },
  {
   "cell_type": "code",
   "execution_count": 1,
   "metadata": {},
   "outputs": [
    {
     "data": {
      "text/plain": [
       "' 4 is smallest number'"
      ]
     },
     "execution_count": 1,
     "metadata": {},
     "output_type": "execute_result"
    }
   ],
   "source": [
    "def smaller(a,b,c):\n",
    "    #applying conditional clause to check which is smallest\n",
    "    if a<b:\n",
    "        if a<c:\n",
    "            return(f\" {a} is smallest number\")\n",
    "        else:\n",
    "            return(f' {c} is smallest ')\n",
    "    elif b<c:\n",
    "        return(f'{b} is smallest')\n",
    "    else :\n",
    "        return(f'{c} is smallest')\n",
    "    \n",
    "smaller(int(input('enter your 1st no')), int(input('enter your 2nd no')), int(input('enter your 3rd no')))"
   ]
  }
 ],
 "metadata": {
  "kernelspec": {
   "display_name": "Python 3",
   "language": "python",
   "name": "python3"
  },
  "language_info": {
   "codemirror_mode": {
    "name": "ipython",
    "version": 3
   },
   "file_extension": ".py",
   "mimetype": "text/x-python",
   "name": "python",
   "nbconvert_exporter": "python",
   "pygments_lexer": "ipython3",
   "version": "3.11.4"
  }
 },
 "nbformat": 4,
 "nbformat_minor": 2
}
