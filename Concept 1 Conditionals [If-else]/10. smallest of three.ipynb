{
 "cells": [
  {
   "cell_type": "markdown",
   "metadata": {},
   "source": [
    "Given three integers, find the smallest one."
   ]
  },
  {
   "cell_type": "code",
   "execution_count": 5,
   "metadata": {},
   "outputs": [
    {
     "name": "stdout",
     "output_type": "stream",
     "text": [
      "the smallest number is 4\n"
     ]
    }
   ],
   "source": [
    "#equals are not included\n",
    "a=int(input('enter your 1st no'))\n",
    "b=int(input('enter your 2nd no'))\n",
    "c=int(input('enter your 3rd no'))\n",
    "\n",
    "#applying conditional clause to check which is smallest\n",
    "if a<b:\n",
    "    if a<c:\n",
    "        print(f\" {a} is smallest number\")\n",
    "    else:\n",
    "        print(f' {c} is smallest ')\n",
    "elif b<c:\n",
    "    print(f'{b} is smallest')\n",
    "else :\n",
    "    print(f'{c} is smallest')"
   ]
  }
 ],
 "metadata": {
  "kernelspec": {
   "display_name": "Python 3",
   "language": "python",
   "name": "python3"
  },
  "language_info": {
   "codemirror_mode": {
    "name": "ipython",
    "version": 3
   },
   "file_extension": ".py",
   "mimetype": "text/x-python",
   "name": "python",
   "nbconvert_exporter": "python",
   "pygments_lexer": "ipython3",
   "version": "3.11.4"
  }
 },
 "nbformat": 4,
 "nbformat_minor": 2
}
