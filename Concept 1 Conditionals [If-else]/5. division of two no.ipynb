{
 "cells": [
  {
   "cell_type": "markdown",
   "metadata": {},
   "source": [
    "Given two numbers, a and b, find the value of a/b (b may be zero)."
   ]
  },
  {
   "cell_type": "code",
   "execution_count": 2,
   "metadata": {},
   "outputs": [
    {
     "name": "stdout",
     "output_type": "stream",
     "text": [
      "a/b = 5.0\n"
     ]
    }
   ],
   "source": [
    "#taking input from user\n",
    "a=float(input(\"enter the first number\"))\n",
    "b=float(input(\"enter the second number\"))\n",
    "\n",
    "#check whether b is 0 or not\n",
    "if b!=0:\n",
    "    #  using mathematical operation for division\n",
    "    print('a/b =', a/b)\n",
    "else:\n",
    "    print(\"division is not defined\")\n"
   ]
  }
 ],
 "metadata": {
  "kernelspec": {
   "display_name": "Python 3",
   "language": "python",
   "name": "python3"
  },
  "language_info": {
   "codemirror_mode": {
    "name": "ipython",
    "version": 3
   },
   "file_extension": ".py",
   "mimetype": "text/x-python",
   "name": "python",
   "nbconvert_exporter": "python",
   "pygments_lexer": "ipython3",
   "version": "3.11.4"
  }
 },
 "nbformat": 4,
 "nbformat_minor": 2
}
