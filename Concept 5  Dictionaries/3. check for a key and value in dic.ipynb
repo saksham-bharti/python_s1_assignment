{
 "cells": [
  {
   "cell_type": "markdown",
   "metadata": {},
   "source": [
    "Check if a key exists in a dictionary:\n",
    "sample_dict = {‘a’: 100, ‘b’: 200, ‘c’: 300}\n",
    "key_needed = ‘d’\n",
    "Check if a value exists in a dictionary:\n",
    "sample_dict = {‘a’: 100, ‘b’: 200, ‘c’: 300}\n",
    "value_needed = 200"
   ]
  },
  {
   "cell_type": "code",
   "execution_count": 1,
   "metadata": {},
   "outputs": [
    {
     "name": "stdout",
     "output_type": "stream",
     "text": [
      "d is not in sample_dict\n",
      "200 is in sample_dict\n"
     ]
    }
   ],
   "source": [
    "#given data from question\n",
    "sample_dict = {'a': 100, 'b': 200, 'c': 30}\n",
    "key_needed = 'd'\n",
    "value_needed = 200\n",
    "\n",
    "#using if else  to check whether key_needed is in keys of sample dict or not\n",
    "if key_needed in sample_dict.keys():\n",
    "    #if present, print it is present\n",
    "    print(f'{key_needed} is in sample_dict')\n",
    "else:\n",
    "    #else print not\n",
    "    print(f'{key_needed} is not in sample_dict')\n",
    "\n",
    "\n",
    "#using if else to check whether value_needed in the values of sample dict\n",
    "if value_needed in sample_dict.values():\n",
    "    print(f'{value_needed} is in sample_dict')\n",
    "else:\n",
    "    #else print not\n",
    "    print(f'{value_needed} is not in sample_dict')\n",
    "\n"
   ]
  }
 ],
 "metadata": {
  "kernelspec": {
   "display_name": "Python 3",
   "language": "python",
   "name": "python3"
  },
  "language_info": {
   "codemirror_mode": {
    "name": "ipython",
    "version": 3
   },
   "file_extension": ".py",
   "mimetype": "text/x-python",
   "name": "python",
   "nbconvert_exporter": "python",
   "pygments_lexer": "ipython3",
   "version": "3.11.4"
  }
 },
 "nbformat": 4,
 "nbformat_minor": 2
}
