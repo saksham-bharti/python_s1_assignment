{
 "cells": [
  {
   "cell_type": "markdown",
   "metadata": {},
   "source": [
    "Create a new dictionary so that it only has the keys mentioned in another list\n",
    "sample_dict = { “name”: “Kelly”, “age”: 25, “salary”: 8000, “city”: “New york”}\n",
    "# Keys to extract\n",
    "keys = [“name”, “salary”]"
   ]
  },
  {
   "cell_type": "code",
   "execution_count": 4,
   "metadata": {},
   "outputs": [
    {
     "name": "stdout",
     "output_type": "stream",
     "text": [
      "{'name': 'Kelly', 'salary': 8000}\n"
     ]
    }
   ],
   "source": [
    "sample_dict = { 'name': 'Kelly', 'age': 25, 'salary': 8000, 'city': 'New york'}\n",
    "# Keys to extract\n",
    "keys_ext = ['name', 'salary']\n",
    "\n",
    "#create a new dictionary\n",
    "dict_new={}\n",
    "\n",
    "#iterating through keys nad values in sample_dict\n",
    "for keys, values in sample_dict.items():\n",
    "    #check if keys are present in keys_ext or not\n",
    "    if keys in keys_ext:\n",
    "        #if present then add them to  new dictionary\n",
    "        dict_new[keys]=values\n",
    "\n",
    "        \n",
    "print(dict_new)\n",
    "\n"
   ]
  }
 ],
 "metadata": {
  "kernelspec": {
   "display_name": "Python 3",
   "language": "python",
   "name": "python3"
  },
  "language_info": {
   "codemirror_mode": {
    "name": "ipython",
    "version": 3
   },
   "file_extension": ".py",
   "mimetype": "text/x-python",
   "name": "python",
   "nbconvert_exporter": "python",
   "pygments_lexer": "ipython3",
   "version": "3.11.4"
  }
 },
 "nbformat": 4,
 "nbformat_minor": 2
}
