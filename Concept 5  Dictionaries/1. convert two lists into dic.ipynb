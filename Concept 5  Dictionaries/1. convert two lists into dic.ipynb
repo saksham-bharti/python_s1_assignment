{
 "cells": [
  {
   "cell_type": "markdown",
   "metadata": {},
   "source": [
    "Convert these two lists into a dictionary. Take the keys from the first list, and values from the second one.\n",
    "keys = [‘Ten’, ‘Twenty’, ‘Thirty’]\n",
    "values = [10, 20, 30]"
   ]
  },
  {
   "cell_type": "code",
   "execution_count": 1,
   "metadata": {},
   "outputs": [
    {
     "name": "stdout",
     "output_type": "stream",
     "text": [
      "{'Ten': 10, 'Twenty': 20, 'thirty': 30}\n"
     ]
    }
   ],
   "source": [
    "#taking two lists as given in question\n",
    "list1=['Ten','Twenty','thirty']\n",
    "list2=[10,20,30]\n",
    "#creat a emply list\n",
    "dict1={}\n",
    "\n",
    "#iterating through in range of length of list1\n",
    "for i in range(len(list1)):\n",
    "    #assigning key from list1  value from list2\n",
    "    dict1[list1[i]]=list2[i]\n",
    "    \n",
    "print(dict1)"
   ]
  }
 ],
 "metadata": {
  "kernelspec": {
   "display_name": "Python 3",
   "language": "python",
   "name": "python3"
  },
  "language_info": {
   "codemirror_mode": {
    "name": "ipython",
    "version": 3
   },
   "file_extension": ".py",
   "mimetype": "text/x-python",
   "name": "python",
   "nbconvert_exporter": "python",
   "pygments_lexer": "ipython3",
   "version": "3.11.4"
  }
 },
 "nbformat": 4,
 "nbformat_minor": 2
}
