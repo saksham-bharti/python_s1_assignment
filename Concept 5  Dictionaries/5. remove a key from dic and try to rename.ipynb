{
 "cells": [
  {
   "cell_type": "markdown",
   "metadata": {},
   "source": [
    "Remove a key from a dictionary:\n",
    "dict_name.pop(key_name)\n",
    "What does this function return?\n",
    "Use pop to rename a key."
   ]
  },
  {
   "cell_type": "code",
   "execution_count": 1,
   "metadata": {},
   "outputs": [
    {
     "name": "stdout",
     "output_type": "stream",
     "text": [
      "{'Twenty': 20, 'Fourty': 40, 'fifty': 50, 'Ten10': 10}\n"
     ]
    }
   ],
   "source": [
    "#take a dictionary\n",
    "dict1 = { 'Ten': 10, 'Twenty': 20, 'Thirty': 30,'Thirty': 30,'Fourty': 40, 'fifty': 50}\n",
    "\n",
    "#removing a key from dictionary using pop\n",
    "dict1.pop('Thirty')\n",
    "\n",
    "#renaming a key in dictionary using pop\n",
    "dict1['Ten10']=dict1.pop('Ten')\n",
    "\n",
    "print(dict1)"
   ]
  }
 ],
 "metadata": {
  "kernelspec": {
   "display_name": "Python 3",
   "language": "python",
   "name": "python3"
  },
  "language_info": {
   "codemirror_mode": {
    "name": "ipython",
    "version": 3
   },
   "file_extension": ".py",
   "mimetype": "text/x-python",
   "name": "python",
   "nbconvert_exporter": "python",
   "pygments_lexer": "ipython3",
   "version": "3.11.4"
  }
 },
 "nbformat": 4,
 "nbformat_minor": 2
}
