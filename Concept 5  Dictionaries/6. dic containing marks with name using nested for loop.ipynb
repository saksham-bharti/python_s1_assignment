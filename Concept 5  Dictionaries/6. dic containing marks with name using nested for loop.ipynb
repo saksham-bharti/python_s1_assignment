{
 "cells": [
  {
   "cell_type": "markdown",
   "metadata": {},
   "source": [
    "Create a dictionary to store the total marks of 5 students in the class in 3 subjects (Course1, Course2, Course3). The keys must be the student names, and the values must be the list of marks. Create another list which has the course names in the same order as the marks are stored in the dictionary values. Now write a nested for loop to print the marks for each student exam wise.\n",
    "Student1\n",
    "Course1 marks : 82\n",
    "Course2 marks : 84\n",
    "Course3 marks : 72\n",
    "Student2\n",
    "Course1 marks : 87\n",
    "Course2 marks : 83\n",
    "Course3 marks : 78"
   ]
  },
  {
   "cell_type": "code",
   "execution_count": 1,
   "metadata": {},
   "outputs": [
    {
     "name": "stdout",
     "output_type": "stream",
     "text": [
      "Saksham\n",
      "course1 : 89\n",
      "course2 : 59\n",
      "course3 : 89\n",
      "____________________\n",
      "Pranjal\n",
      "course1 : 99\n",
      "course2 : 98\n",
      "course3 : 97\n",
      "____________________\n",
      "Yash\n",
      "course1 : 32\n",
      "course2 : 65\n",
      "course3 : 89\n",
      "____________________\n",
      "Harsh\n",
      "course1 : 85\n",
      "course2 : 89\n",
      "course3 : 86\n",
      "____________________\n",
      "Aditi\n",
      "course1 : 25\n",
      "course2 : 69\n",
      "course3 : 54\n",
      "____________________\n"
     ]
    }
   ],
   "source": [
    "#take a empty dictionary\n",
    "dict_marks={}\n",
    "\n",
    "#add names as keys and their marks as list in form of values\n",
    "dict_marks[\"Saksham\"]=[89,59,89]\n",
    "dict_marks[\"Pranjal\"]=[99,98,97]\n",
    "dict_marks[\"Yash\"]=[32,65,89]\n",
    "dict_marks[\"Harsh\"]=[85,89,86]\n",
    "dict_marks[\"Aditi\"]=[25,69,54]\n",
    "\n",
    "#list containing names of courses\n",
    "cource_name=['course1','course2', 'course3']\n",
    "\n",
    "#iterating through names and marks in dict_marks\n",
    "for names, marks in dict_marks.items():\n",
    "    #print name of  student\n",
    "    print(names)\n",
    "    #iterating  throught numbers in range of lenght of marks\n",
    "    for i in range(len(marks)):\n",
    "        #print cource name corresponding marks\n",
    "        print(cource_name[i],':',marks[i])\n",
    "\n",
    "\n",
    "    print('____________________')    \n",
    "\n"
   ]
  }
 ],
 "metadata": {
  "kernelspec": {
   "display_name": "Python 3",
   "language": "python",
   "name": "python3"
  },
  "language_info": {
   "codemirror_mode": {
    "name": "ipython",
    "version": 3
   },
   "file_extension": ".py",
   "mimetype": "text/x-python",
   "name": "python",
   "nbconvert_exporter": "python",
   "pygments_lexer": "ipython3",
   "version": "3.11.4"
  }
 },
 "nbformat": 4,
 "nbformat_minor": 2
}
