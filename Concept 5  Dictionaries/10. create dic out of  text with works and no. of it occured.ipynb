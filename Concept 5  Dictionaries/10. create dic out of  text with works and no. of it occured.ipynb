{
 "cells": [
  {
   "cell_type": "markdown",
   "metadata": {},
   "source": [
    "Create a text file with one word in each line. The words can be repeated, i.e. the same word can come in more than one line. Read this text file in python, and create a dictionary where the key is the word and the value is the number of times it occurs in the text file."
   ]
  },
  {
   "cell_type": "code",
   "execution_count": 2,
   "metadata": {},
   "outputs": [
    {
     "name": "stdout",
     "output_type": "stream",
     "text": [
      "Word Frequencies:\n",
      "saksham: 3\n",
      "pranjal: 2\n",
      "harsh: 1\n",
      "manvendra: 1\n",
      "suresh: 1\n",
      "sanyam: 1\n",
      "pratyaksh: 1\n",
      "sanjeeta: 1\n",
      "sonam: 2\n"
     ]
    }
   ],
   "source": [
    "# Read the text file and create a dictionary with word frequencies\n",
    "with open(\"words.txt\", \"r\") as file:\n",
    "    word_frequency = {}\n",
    "    for line in file:\n",
    "        #removing whitespace from begining and end\n",
    "        word = line.strip()\n",
    "        # Check if the word is already in the dictionary\n",
    "        if word in word_frequency:\n",
    "            # If yes then increase the count of the word, adding the word and word in dictionary\n",
    "            word_frequency[word] += 1\n",
    "        else:\n",
    "            # If not then add the word to the dictionary with a count of 1\n",
    "            word_frequency[word] = 1\n",
    "\n",
    "print(\"Word Frequencies:\")\n",
    "for word, frequency in word_frequency.items():\n",
    "    print(f\"{word}: {frequency}\")\n"
   ]
  }
 ],
 "metadata": {
  "kernelspec": {
   "display_name": "Python 3",
   "language": "python",
   "name": "python3"
  },
  "language_info": {
   "codemirror_mode": {
    "name": "ipython",
    "version": 3
   },
   "file_extension": ".py",
   "mimetype": "text/x-python",
   "name": "python",
   "nbconvert_exporter": "python",
   "pygments_lexer": "ipython3",
   "version": "3.11.4"
  }
 },
 "nbformat": 4,
 "nbformat_minor": 2
}
