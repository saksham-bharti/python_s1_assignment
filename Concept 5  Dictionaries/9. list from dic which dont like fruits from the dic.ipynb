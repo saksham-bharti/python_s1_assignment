{
 "cells": [
  {
   "cell_type": "markdown",
   "metadata": {},
   "source": [
    "Create a dictionary whose keys are the names of your family members and friends, and the values are the list of fruits they like to eat. Now if the user gives a fruit as input, the code should print the list of names who like this fruit. Write another code to print the list of people who do not like this fruit. Using this dictionary as input, write a code to make a consolidated list of all the fruit names present in the values of various keys. This list should not have any duplicate entries. Do not use the set() function."
   ]
  },
  {
   "cell_type": "code",
   "execution_count": 1,
   "metadata": {},
   "outputs": [
    {
     "name": "stdout",
     "output_type": "stream",
     "text": [
      "those who do like apple are  ['Saksham', 'Pranjal', 'Pratyaksh']\n",
      "those who do not like apple are  ['Ankush', 'Sanyam']\n"
     ]
    }
   ],
   "source": [
    "dict_fruit={}\n",
    "dict_fruit['Saksham']=['mango','apple','orange','melon','kiwi','banana','grapes','pineapple']\n",
    "dict_fruit['Ankush']=['strawberry','lichi','pear','melon','kiwi','banana','grapes','pomegranate']\n",
    "dict_fruit['Pranjal']=['apple','water melon','melon','kiwi','gauva','grapes','pineapple']\n",
    "dict_fruit['Pratyaksh']=['mango','apple','orange','melon','berry','banana','lichi']\n",
    "dict_fruit['Sanyam']=['lichi','gauva','kiwi','banana','pear','pineapple']\n",
    "\n",
    "frut_in=input(\"enter the name of fruit\")\n",
    "\n",
    "list_likes=[]\n",
    "list_dnlke=[]\n",
    "\n",
    "for names,fruits in dict_fruit.items():\n",
    "    if frut_in in fruits:\n",
    "        list_likes.append(names)\n",
    "    else:\n",
    "        list_dnlke.append(names)\n",
    "\n",
    "print(f'those who do like {frut_in} are ',list_likes)\n",
    "print(f'those who do not like {frut_in} are ',list_dnlke)\n",
    "\n"
   ]
  }
 ],
 "metadata": {
  "kernelspec": {
   "display_name": "Python 3",
   "language": "python",
   "name": "python3"
  },
  "language_info": {
   "codemirror_mode": {
    "name": "ipython",
    "version": 3
   },
   "file_extension": ".py",
   "mimetype": "text/x-python",
   "name": "python",
   "nbconvert_exporter": "python",
   "pygments_lexer": "ipython3",
   "version": "3.11.4"
  }
 },
 "nbformat": 4,
 "nbformat_minor": 2
}
