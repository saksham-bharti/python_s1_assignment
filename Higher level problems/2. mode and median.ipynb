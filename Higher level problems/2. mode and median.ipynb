{
 "cells": [
  {
   "cell_type": "markdown",
   "metadata": {},
   "source": [
    "2. Given a list of numbers, find out the median and mode."
   ]
  },
  {
   "cell_type": "code",
   "execution_count": 1,
   "metadata": {},
   "outputs": [
    {
     "name": "stdout",
     "output_type": "stream",
     "text": [
      "mode of the data is 2 and its frequency is 3\n"
     ]
    }
   ],
   "source": [
    "list2=[2,1,5,4,8,9,6,2,5,45,56,23,5,4,6,2,4,6]\n",
    "freq=0\n",
    "for i in list2:\n",
    "    #updating the value of count each time when loop runs\n",
    "    count=0\n",
    "    for j in list2:\n",
    "        #checking for equality of elements\n",
    "        if i==j:\n",
    "            #if found equal then increase its count\n",
    "            count+=1\n",
    "        #checking for the greater count\n",
    "    if count>freq:\n",
    "        freq=count                  #updating the value of num of times a element occured in list to freq\n",
    "        mode=i                      #updating the value of mode with the most occuring number\n",
    "\n",
    "print(f\"mode of the data is {mode} and its frequency is {freq}\")        \n"
   ]
  },
  {
   "cell_type": "code",
   "execution_count": 2,
   "metadata": {},
   "outputs": [
    {
     "ename": "IndexError",
     "evalue": "list index out of range",
     "output_type": "error",
     "traceback": [
      "\u001b[1;31m---------------------------------------------------------------------------\u001b[0m",
      "\u001b[1;31mIndexError\u001b[0m                                Traceback (most recent call last)",
      "\u001b[1;32mc:\\Users\\Saksh\\Desktop\\code\\python\\python_sem1_assignment\\Higher level problems\\2. mode and median.ipynb Cell 3\u001b[0m line \u001b[0;36m1\n\u001b[0;32m     <a href='vscode-notebook-cell:/c%3A/Users/Saksh/Desktop/code/python/python_sem1_assignment/Higher%20level%20problems/2.%20mode%20and%20median.ipynb#W2sZmlsZQ%3D%3D?line=11'>12</a>\u001b[0m \u001b[39m#now here we have two cases, one when length element is even and another is odd\u001b[39;00m\n\u001b[0;32m     <a href='vscode-notebook-cell:/c%3A/Users/Saksh/Desktop/code/python/python_sem1_assignment/Higher%20level%20problems/2.%20mode%20and%20median.ipynb#W2sZmlsZQ%3D%3D?line=12'>13</a>\u001b[0m \u001b[39mif\u001b[39;00m lng\u001b[39m%\u001b[39m\u001b[39m2\u001b[39m\u001b[39m==\u001b[39m\u001b[39m0\u001b[39m:\n\u001b[0;32m     <a href='vscode-notebook-cell:/c%3A/Users/Saksh/Desktop/code/python/python_sem1_assignment/Higher%20level%20problems/2.%20mode%20and%20median.ipynb#W2sZmlsZQ%3D%3D?line=13'>14</a>\u001b[0m     \u001b[39m#even: so median is that index numbers which is half if length of list and next to half \u001b[39;00m\n\u001b[1;32m---> <a href='vscode-notebook-cell:/c%3A/Users/Saksh/Desktop/code/python/python_sem1_assignment/Higher%20level%20problems/2.%20mode%20and%20median.ipynb#W2sZmlsZQ%3D%3D?line=14'>15</a>\u001b[0m     \u001b[39mprint\u001b[39m(\u001b[39m\"\u001b[39m\u001b[39mmedian of the list is\u001b[39m\u001b[39m\"\u001b[39m, list2[lng],\u001b[39m'\u001b[39m\u001b[39mand\u001b[39m\u001b[39m'\u001b[39m,list2[lng\u001b[39m+\u001b[39m\u001b[39m1\u001b[39m])\n\u001b[0;32m     <a href='vscode-notebook-cell:/c%3A/Users/Saksh/Desktop/code/python/python_sem1_assignment/Higher%20level%20problems/2.%20mode%20and%20median.ipynb#W2sZmlsZQ%3D%3D?line=16'>17</a>\u001b[0m \u001b[39melse\u001b[39;00m:\n\u001b[0;32m     <a href='vscode-notebook-cell:/c%3A/Users/Saksh/Desktop/code/python/python_sem1_assignment/Higher%20level%20problems/2.%20mode%20and%20median.ipynb#W2sZmlsZQ%3D%3D?line=17'>18</a>\u001b[0m     \u001b[39m#odd: so median is that index number element which is next integer next to half of length\u001b[39;00m\n\u001b[0;32m     <a href='vscode-notebook-cell:/c%3A/Users/Saksh/Desktop/code/python/python_sem1_assignment/Higher%20level%20problems/2.%20mode%20and%20median.ipynb#W2sZmlsZQ%3D%3D?line=18'>19</a>\u001b[0m     \u001b[39mprint\u001b[39m(\u001b[39m\"\u001b[39m\u001b[39mmedian of the list is\u001b[39m\u001b[39m\"\u001b[39m,list2[(\u001b[39mint\u001b[39m((lng)\u001b[39m/\u001b[39m\u001b[39m2\u001b[39m))\u001b[39m+\u001b[39m\u001b[39m1\u001b[39m] )\n",
      "\u001b[1;31mIndexError\u001b[0m: list index out of range"
     ]
    }
   ],
   "source": [
    "for i in range(len(list2)):\n",
    "    for j in range(len(list2)):\n",
    "        #checking for the smaller one\n",
    "        if list2[i]<list2[j]:\n",
    "            n1=list2[i]              #updating the values of varible\n",
    "            n2=list2[j]\n",
    "            list2[j]=n1              #updating the index of the numbers as smaller first then next and so on\n",
    "            list2[i]=n2\n",
    "\n",
    "#now list is in ascending order\n",
    "lng=len(list2)\n",
    "#now here we have two cases, one when length element is even and another is odd\n",
    "if lng%2==0:\n",
    "    #even: so median is that index numbers which is half if length of list and next to half \n",
    "    print(\"median of the list is\", list2[lng],'and',list2[lng+1])\n",
    "\n",
    "else:\n",
    "    #odd: so median is that index number element which is next integer next to half of length\n",
    "    print(\"median of the list is\",list2[(int((lng)/2))+1] )\n",
    "\n",
    "\n",
    "            "
   ]
  }
 ],
 "metadata": {
  "kernelspec": {
   "display_name": "Python 3",
   "language": "python",
   "name": "python3"
  },
  "language_info": {
   "codemirror_mode": {
    "name": "ipython",
    "version": 3
   },
   "file_extension": ".py",
   "mimetype": "text/x-python",
   "name": "python",
   "nbconvert_exporter": "python",
   "pygments_lexer": "ipython3",
   "version": "3.11.4"
  }
 },
 "nbformat": 4,
 "nbformat_minor": 2
}
