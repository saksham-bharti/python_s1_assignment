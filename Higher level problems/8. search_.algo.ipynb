{
 "cells": [
  {
   "cell_type": "markdown",
   "metadata": {},
   "source": [
    "Given a sorted list of integers, search for a given integer using the binary search algorithm"
   ]
  },
  {
   "cell_type": "code",
   "execution_count": 5,
   "metadata": {},
   "outputs": [
    {
     "name": "stdout",
     "output_type": "stream",
     "text": [
      "Target 2 found at index 1.\n"
     ]
    }
   ],
   "source": [
    "def search(list8, need):\n",
    "\n",
    "    left = 0\n",
    "    right= len(list8)-1\n",
    "\n",
    "    while left <= right:\n",
    "        # Calculating  the middle index\n",
    "        mid = (left + right) // 2\n",
    "\n",
    "        # Checking if the middle index element is need or not\n",
    "        if list8[mid] == need:\n",
    "            return mid                       # if yes, then return it\n",
    "        \n",
    "        elif list8[mid] < need:\n",
    "            #if no then need is in the right side from middle , therefore updating the value of left\n",
    "            left= mid+1  \n",
    "        else:\n",
    "            #if no then need is in the left side from middle , therefore updating the value of right\n",
    "\n",
    "            right= mid-1\n",
    "    return 'not in list'  #if need  not found in the list8\n",
    "\n",
    "\n",
    "list_gvn= [1, 2, 3, 4, 5, 6, 7, 8, 9, 10 , 11]                    #given sorted list\n",
    "numb_need = 2                              # the number whose index we need to know\n",
    "\n",
    "finded = search(list_gvn, numb_need)\n",
    "\n",
    "if finded != -1:\n",
    "    print(f\"Target {numb_need} found at index {finded}.\")\n",
    "else:\n",
    "    print(f\"Target {numb_need} not found in the list.\")\n"
   ]
  }
 ],
 "metadata": {
  "kernelspec": {
   "display_name": "Python 3",
   "language": "python",
   "name": "python3"
  },
  "language_info": {
   "codemirror_mode": {
    "name": "ipython",
    "version": 3
   },
   "file_extension": ".py",
   "mimetype": "text/x-python",
   "name": "python",
   "nbconvert_exporter": "python",
   "pygments_lexer": "ipython3",
   "version": "3.11.4"
  }
 },
 "nbformat": 4,
 "nbformat_minor": 2
}
