{
 "cells": [
  {
   "cell_type": "markdown",
   "metadata": {},
   "source": [
    "1. Given a list of numbers, sort it in ascending order."
   ]
  },
  {
   "cell_type": "code",
   "execution_count": 1,
   "metadata": {},
   "outputs": [
    {
     "name": "stdout",
     "output_type": "stream",
     "text": [
      "[-9221, -8, -6, -3, 0, 1, 3, 4, 4, 4, 15, 45, 45]\n"
     ]
    }
   ],
   "source": [
    "lst1=[15,3,45,4,-8,-6,4,-3,45,-9221,0,1,4]\n",
    "for i in range(len(lst1)):             \n",
    "    for j in range(len(lst1)):\n",
    "        #checking for the smaller one\n",
    "        if lst1[i]<lst1[j]:\n",
    "            n1=lst1[i]              #updating the values of varible\n",
    "            n2=lst1[j]\n",
    "            lst1[j]=n1              #updating the index of the numbers as smaller first then next and so on\n",
    "            lst1[i]=n2\n",
    "            \n",
    "print(lst1)"
   ]
  }
 ],
 "metadata": {
  "kernelspec": {
   "display_name": "Python 3",
   "language": "python",
   "name": "python3"
  },
  "language_info": {
   "codemirror_mode": {
    "name": "ipython",
    "version": 3
   },
   "file_extension": ".py",
   "mimetype": "text/x-python",
   "name": "python",
   "nbconvert_exporter": "python",
   "pygments_lexer": "ipython3",
   "version": "3.11.4"
  }
 },
 "nbformat": 4,
 "nbformat_minor": 2
}
