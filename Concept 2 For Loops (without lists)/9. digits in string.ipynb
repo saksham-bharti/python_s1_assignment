{
 "cells": [
  {
   "cell_type": "markdown",
   "metadata": {},
   "source": [
    "Given a positive integer, print each of its digits separately without converting the number into a string."
   ]
  },
  {
   "cell_type": "code",
   "execution_count": 3,
   "metadata": {},
   "outputs": [
    {
     "name": "stdout",
     "output_type": "stream",
     "text": [
      "Digits of the number:\n",
      "5\n",
      "4\n",
      "3\n",
      "2\n",
      "1\n"
     ]
    }
   ],
   "source": [
    "# Given positive integer\n",
    "number = 12345\n",
    "\n",
    "print(\"Digits of the number:\")\n",
    "# Loop through each digit in the number\n",
    "for i in range(len(str(number))):\n",
    "    # Extracting the last digit using remainder of division by 10\n",
    "    digit = number % 10\n",
    "    print(digit)\n",
    "    # Update the number by  dividing it  by 10\n",
    "    number = number// 10"
   ]
  }
 ],
 "metadata": {
  "kernelspec": {
   "display_name": "Python 3",
   "language": "python",
   "name": "python3"
  },
  "language_info": {
   "codemirror_mode": {
    "name": "ipython",
    "version": 3
   },
   "file_extension": ".py",
   "mimetype": "text/x-python",
   "name": "python",
   "nbconvert_exporter": "python",
   "pygments_lexer": "ipython3",
   "version": "3.11.4"
  }
 },
 "nbformat": 4,
 "nbformat_minor": 2
}
