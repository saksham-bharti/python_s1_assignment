{
 "cells": [
  {
   "cell_type": "markdown",
   "metadata": {},
   "source": [
    "Given a positive integer, print each of its digits separately without converting the number into a string."
   ]
  },
  {
   "cell_type": "code",
   "execution_count": 18,
   "metadata": {},
   "outputs": [
    {
     "name": "stdout",
     "output_type": "stream",
     "text": [
      "[4, 5, 6]\n"
     ]
    }
   ],
   "source": [
    "#taking input from the user\n",
    "num7=int(input(\"enter the desired number=\"))\n",
    "\n",
    "#empty list to feed digits of the number\n",
    "list_st=[]\n",
    "\n",
    "#iterate through the numbers in range num7\n",
    "for i in range(num7):\n",
    "\n",
    "    #check for 0\n",
    "    if num7!=0:\n",
    "        #if not zero then. update the value of remain as the remainder when num7 is divided by 10\n",
    "        remain=num7%10\n",
    "        #removing the unit digit from the number and updating  the value of num7\n",
    "        num7=num7//10\n",
    "        #appending the value of remain(which is unit digit of the number) in the empty list\n",
    "        list_st.append(remain)\n",
    "\n",
    "    else:\n",
    "        #if zero then break the loop\n",
    "        break\n",
    "\n",
    "#reversing the list_st as digits are appended from right side\n",
    "list_st.reverse()\n",
    "\n",
    "print(list_st)\n"
   ]
  }
 ],
 "metadata": {
  "kernelspec": {
   "display_name": "Python 3",
   "language": "python",
   "name": "python3"
  },
  "language_info": {
   "codemirror_mode": {
    "name": "ipython",
    "version": 3
   },
   "file_extension": ".py",
   "mimetype": "text/x-python",
   "name": "python",
   "nbconvert_exporter": "python",
   "pygments_lexer": "ipython3",
   "version": "3.11.4"
  }
 },
 "nbformat": 4,
 "nbformat_minor": 2
}
