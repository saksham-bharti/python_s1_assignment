{
 "cells": [
  {
   "cell_type": "markdown",
   "metadata": {},
   "source": [
    "Given a positive integer, convert it into binary, and vice-versa."
   ]
  },
  {
   "cell_type": "code",
   "execution_count": 9,
   "metadata": {},
   "outputs": [
    {
     "name": "stdout",
     "output_type": "stream",
     "text": [
      "decimal of 1111 is : 15\n",
      "binary if 45 is : 101101\n"
     ]
    }
   ],
   "source": [
    "#input of binary number from user \n",
    "binr=input(\"enter your binary number\")\n",
    "\n",
    "length=len(binr)\n",
    "sum_bin=0\n",
    "#iterating through each element in the binr\n",
    "for i in range(length):\n",
    "     #adding the values of element after multiplying it with (2 power elements its index)\n",
    "    sum_bin+=int(binr[i])*(2**(length-1-i))\n",
    "\n",
    "print(f'decimal of {binr} is :',sum_bin)\n",
    "\n",
    "#input of binary number from user \n",
    "deci=int(input('enter your decimal number'))\n",
    "deci2=deci\n",
    "#initialing new variable with o length\n",
    "binry=\"\"\n",
    "\n",
    "if deci==0:\n",
    "    #if deci is eqaul to 0 that means its binary number will be 0 too\n",
    "    print(f'binary of {deci2} is : 0')\n",
    "else:\n",
    "    #otherwise starting the while loop\n",
    "    while deci>0:\n",
    "        #initailising new variable which will store the remainder after the devision\n",
    "        remn=deci%2\n",
    "        #converting that remainder into string and adding that to binry\n",
    "        binry=str(remn)+binry\n",
    "        #updating value of deci to qoutient after dicision\n",
    "        deci=deci//2\n",
    "\n",
    "print(f'binary if {deci2} is :', binry)"
   ]
  }
 ],
 "metadata": {
  "kernelspec": {
   "display_name": "Python 3",
   "language": "python",
   "name": "python3"
  },
  "language_info": {
   "codemirror_mode": {
    "name": "ipython",
    "version": 3
   },
   "file_extension": ".py",
   "mimetype": "text/x-python",
   "name": "python",
   "nbconvert_exporter": "python",
   "pygments_lexer": "ipython3",
   "version": "3.11.4"
  }
 },
 "nbformat": 4,
 "nbformat_minor": 2
}
