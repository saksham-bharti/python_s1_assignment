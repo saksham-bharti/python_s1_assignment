{
 "cells": [
  {
   "cell_type": "markdown",
   "metadata": {},
   "source": [
    "Given a positive integer, find out the sum of all integers from 1 up to this number."
   ]
  },
  {
   "cell_type": "code",
   "execution_count": 2,
   "metadata": {},
   "outputs": [
    {
     "data": {
      "text/plain": [
       "10"
      ]
     },
     "execution_count": 2,
     "metadata": {},
     "output_type": "execute_result"
    }
   ],
   "source": [
    "def sum_num(num2):\n",
    "    #initializing a variable sum2\n",
    "    sum2=0\n",
    "    #iterate through numbers in range(1,num2+1)\n",
    "    for num in range(1,num2+1):             \n",
    "        #addting the num to sum2 and updating the value of sum2\n",
    "        sum2=sum2+num\n",
    "    return(sum2)\n",
    "\n",
    "sum_num(int(input('enter your desired positive number')))"
   ]
  }
 ],
 "metadata": {
  "kernelspec": {
   "display_name": "Python 3",
   "language": "python",
   "name": "python3"
  },
  "language_info": {
   "codemirror_mode": {
    "name": "ipython",
    "version": 3
   },
   "file_extension": ".py",
   "mimetype": "text/x-python",
   "name": "python",
   "nbconvert_exporter": "python",
   "pygments_lexer": "ipython3",
   "version": "3.11.4"
  }
 },
 "nbformat": 4,
 "nbformat_minor": 2
}
