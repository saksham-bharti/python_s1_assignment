{
 "cells": [
  {
   "cell_type": "markdown",
   "metadata": {},
   "source": [
    "Given a positive integer, find out the sum of all integers from 1 up to this number."
   ]
  },
  {
   "cell_type": "code",
   "execution_count": 1,
   "metadata": {},
   "outputs": [
    {
     "name": "stdout",
     "output_type": "stream",
     "text": [
      "55\n"
     ]
    }
   ],
   "source": [
    "#taking input from the user\n",
    "num2=int(input('enter your desired positive number'))\n",
    "\n",
    "#initializing a variable sum2\n",
    "sum2=0\n",
    "\n",
    "#iterate through numbers in range(1,num2+1)\n",
    "#adding one is important in num2\n",
    "for num in range(1,num2+1):             \n",
    "    #addting the num to sum2 and updating the value of sum2\n",
    "    sum2=sum2+num\n",
    "\n",
    "\n",
    "print(sum2)"
   ]
  }
 ],
 "metadata": {
  "kernelspec": {
   "display_name": "Python 3",
   "language": "python",
   "name": "python3"
  },
  "language_info": {
   "codemirror_mode": {
    "name": "ipython",
    "version": 3
   },
   "file_extension": ".py",
   "mimetype": "text/x-python",
   "name": "python",
   "nbconvert_exporter": "python",
   "pygments_lexer": "ipython3",
   "version": "3.11.4"
  }
 },
 "nbformat": 4,
 "nbformat_minor": 2
}
