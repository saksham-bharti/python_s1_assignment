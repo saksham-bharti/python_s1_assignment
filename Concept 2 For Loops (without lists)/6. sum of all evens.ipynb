{
 "cells": [
  {
   "cell_type": "markdown",
   "metadata": {},
   "source": [
    "Given a positive integer, find out the sum of all even numbers from 2 up to this number."
   ]
  },
  {
   "cell_type": "code",
   "execution_count": 2,
   "metadata": {},
   "outputs": [
    {
     "name": "stdout",
     "output_type": "stream",
     "text": [
      "12\n"
     ]
    }
   ],
   "source": [
    "#taking input from the user\n",
    "num6=int(input('enter your desired positive number'))\n",
    "\n",
    "#initializing a variable sum6\n",
    "sum6=0\n",
    "\n",
    "#iterate through numbers in range(2,num6+1) with the difference of 2 (slicing)\n",
    "for num in range(2,num6+1,2):     \n",
    "    #adding num to num5 and update the value of sum6\n",
    "    sum6=sum6+num\n",
    "    \n",
    "print(sum6)"
   ]
  }
 ],
 "metadata": {
  "kernelspec": {
   "display_name": "Python 3",
   "language": "python",
   "name": "python3"
  },
  "language_info": {
   "codemirror_mode": {
    "name": "ipython",
    "version": 3
   },
   "file_extension": ".py",
   "mimetype": "text/x-python",
   "name": "python",
   "nbconvert_exporter": "python",
   "pygments_lexer": "ipython3",
   "version": "3.11.4"
  }
 },
 "nbformat": 4,
 "nbformat_minor": 2
}
