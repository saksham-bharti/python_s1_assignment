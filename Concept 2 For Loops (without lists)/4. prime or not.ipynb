{
 "cells": [
  {
   "cell_type": "markdown",
   "metadata": {},
   "source": [
    "Given a positive integer, find out if it’s prime or not"
   ]
  },
  {
   "cell_type": "code",
   "execution_count": 2,
   "metadata": {},
   "outputs": [
    {
     "data": {
      "text/plain": [
       "'it is not a prime number'"
      ]
     },
     "execution_count": 2,
     "metadata": {},
     "output_type": "execute_result"
    }
   ],
   "source": [
    "def prime(num4):\n",
    "    #taking the root of num4 and convert the value to integer\n",
    "    root=int(num4**0.5)\n",
    "\n",
    "    #initializing a variable count\n",
    "    count=0\n",
    "\n",
    "    #iterate through numbers in range(1,root+1)\n",
    "    for i in range(2,root+1):\n",
    "        #dividing num4 by numbers in range and checking for remainder 0\n",
    "        if num4%i==0:\n",
    "            #if o then increase the value of count by 1\n",
    "            count=count+1\n",
    "    # check  for count eqaul to zero\n",
    "    if count==0:\n",
    "        #if 0 that implies num4 is not completely divisible any number in range root, so is prime number\n",
    "        return('it is a prime no')\n",
    "    else:\n",
    "        #if not zero then it is not a prime number\n",
    "        return('it is not a prime number')\n",
    "\n",
    "prime(int(input('enter the desired number')))"
   ]
  }
 ],
 "metadata": {
  "kernelspec": {
   "display_name": "Python 3",
   "language": "python",
   "name": "python3"
  },
  "language_info": {
   "codemirror_mode": {
    "name": "ipython",
    "version": 3
   },
   "file_extension": ".py",
   "mimetype": "text/x-python",
   "name": "python",
   "nbconvert_exporter": "python",
   "pygments_lexer": "ipython3",
   "version": "3.11.4"
  }
 },
 "nbformat": 4,
 "nbformat_minor": 2
}
