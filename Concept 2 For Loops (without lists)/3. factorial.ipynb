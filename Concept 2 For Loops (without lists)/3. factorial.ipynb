{
 "cells": [
  {
   "cell_type": "markdown",
   "metadata": {},
   "source": [
    "Given a positive integer, find out its factorial."
   ]
  },
  {
   "cell_type": "code",
   "execution_count": 1,
   "metadata": {},
   "outputs": [
    {
     "data": {
      "text/plain": [
       "120"
      ]
     },
     "execution_count": 1,
     "metadata": {},
     "output_type": "execute_result"
    }
   ],
   "source": [
    "def facto(num3):\n",
    "    #initializing a variable pdt\n",
    "    pdt=1\n",
    "    #iterate through the numbers in range of (num3+1)\n",
    "    for i in range(2,num3+1):\n",
    "        #multiplying number in range with pdt and update the value of pdt\n",
    "        pdt=pdt*i\n",
    "    return(pdt)\n",
    "\n",
    "facto(int(input('enter your desired positive number')))"
   ]
  }
 ],
 "metadata": {
  "kernelspec": {
   "display_name": "Python 3",
   "language": "python",
   "name": "python3"
  },
  "language_info": {
   "codemirror_mode": {
    "name": "ipython",
    "version": 3
   },
   "file_extension": ".py",
   "mimetype": "text/x-python",
   "name": "python",
   "nbconvert_exporter": "python",
   "pygments_lexer": "ipython3",
   "version": "3.11.4"
  }
 },
 "nbformat": 4,
 "nbformat_minor": 2
}
