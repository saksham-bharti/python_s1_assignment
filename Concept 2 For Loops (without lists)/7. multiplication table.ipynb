{
 "cells": [
  {
   "cell_type": "markdown",
   "metadata": {},
   "source": [
    "Given a positive integer, find the multiplication table of that integer up to 10"
   ]
  },
  {
   "cell_type": "code",
   "execution_count": 1,
   "metadata": {},
   "outputs": [
    {
     "name": "stdout",
     "output_type": "stream",
     "text": [
      "50 x 1 = 50\n",
      "50 x 2 = 100\n",
      "50 x 3 = 150\n",
      "50 x 4 = 200\n",
      "50 x 5 = 250\n",
      "50 x 6 = 300\n",
      "50 x 7 = 350\n",
      "50 x 8 = 400\n",
      "50 x 9 = 450\n",
      "50 x 10 = 500\n"
     ]
    }
   ],
   "source": [
    "#taking input from the user\n",
    "num7=int(input('enter your desired positive number'))\n",
    "\n",
    "#iterate through the numbers in range (1,11)\n",
    "for i in range(1,10+1):\n",
    "    #multiplying num7 with numbers in range in loop and feed the value in pdt\n",
    "    pdt=num7*i\n",
    "    \n",
    "    print(num7,'x',i ,'=', pdt)"
   ]
  }
 ],
 "metadata": {
  "kernelspec": {
   "display_name": "Python 3",
   "language": "python",
   "name": "python3"
  },
  "language_info": {
   "codemirror_mode": {
    "name": "ipython",
    "version": 3
   },
   "file_extension": ".py",
   "mimetype": "text/x-python",
   "name": "python",
   "nbconvert_exporter": "python",
   "pygments_lexer": "ipython3",
   "version": "3.11.4"
  }
 },
 "nbformat": 4,
 "nbformat_minor": 2
}
