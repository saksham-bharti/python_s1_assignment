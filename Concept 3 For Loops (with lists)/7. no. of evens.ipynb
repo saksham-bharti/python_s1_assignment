{
 "cells": [
  {
   "cell_type": "markdown",
   "metadata": {},
   "source": [
    "Given a list of numbers, find out how many even numbers it has."
   ]
  },
  {
   "cell_type": "code",
   "execution_count": 1,
   "metadata": {},
   "outputs": [
    {
     "name": "stdout",
     "output_type": "stream",
     "text": [
      "4\n"
     ]
    }
   ],
   "source": [
    "#taking a random list\n",
    "new6=[1,2,3,4,5,6,7,8,9]\n",
    "\n",
    "#initailising a variable to count the number of times loop run while satisfying the condition\n",
    "count=0\n",
    "\n",
    "#iterating through each element of the list\n",
    "for i in new6:\n",
    "    #check for remainder to be 0 on dividing with 2 \n",
    "    if i%2==0:\n",
    "        #if 0 then increse the count with one\n",
    "        count+=1\n",
    "        \n",
    "print(count)"
   ]
  }
 ],
 "metadata": {
  "kernelspec": {
   "display_name": "Python 3",
   "language": "python",
   "name": "python3"
  },
  "language_info": {
   "codemirror_mode": {
    "name": "ipython",
    "version": 3
   },
   "file_extension": ".py",
   "mimetype": "text/x-python",
   "name": "python",
   "nbconvert_exporter": "python",
   "pygments_lexer": "ipython3",
   "version": "3.11.4"
  }
 },
 "nbformat": 4,
 "nbformat_minor": 2
}
