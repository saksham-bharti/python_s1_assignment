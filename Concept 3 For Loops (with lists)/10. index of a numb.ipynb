{
 "cells": [
  {
   "cell_type": "markdown",
   "metadata": {},
   "source": [
    "Given a list of numbers, find out the index of another given number."
   ]
  },
  {
   "cell_type": "code",
   "execution_count": 1,
   "metadata": {},
   "outputs": [
    {
     "name": "stdout",
     "output_type": "stream",
     "text": [
      "index of 1 is:  0\n"
     ]
    }
   ],
   "source": [
    "#taking a random list\n",
    "list_n=[1,2,3,4,5,6,7,8,9]\n",
    "\n",
    "#taking input from the user about which number's index User wants to know\n",
    "num=int(input(\"enter your number\"))\n",
    "\n",
    "#initializing a variable count to know how many time loop ran\n",
    "count=0\n",
    "\n",
    "#iterate through each element of list\n",
    "for i in list_n:\n",
    "    if i==num:\n",
    "        #stop the loop when you get your number in the list\n",
    "        break\n",
    "    else:\n",
    "        #increase the count to get the index of the number\n",
    "        count+=1\n",
    "\n",
    "print('index of',num,'is: ', count)"
   ]
  }
 ],
 "metadata": {
  "kernelspec": {
   "display_name": "Python 3",
   "language": "python",
   "name": "python3"
  },
  "language_info": {
   "codemirror_mode": {
    "name": "ipython",
    "version": 3
   },
   "file_extension": ".py",
   "mimetype": "text/x-python",
   "name": "python",
   "nbconvert_exporter": "python",
   "pygments_lexer": "ipython3",
   "version": "3.11.4"
  }
 },
 "nbformat": 4,
 "nbformat_minor": 2
}
