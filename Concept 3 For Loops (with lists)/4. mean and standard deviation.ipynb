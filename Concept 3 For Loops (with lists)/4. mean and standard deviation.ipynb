{
 "cells": [
  {
   "cell_type": "markdown",
   "metadata": {},
   "source": [
    "Given a list of numbers, find out the mean and standard deviation"
   ]
  },
  {
   "cell_type": "code",
   "execution_count": 1,
   "metadata": {},
   "outputs": [
    {
     "name": "stdout",
     "output_type": "stream",
     "text": [
      "mmean of the data is 5.0\n",
      "standard deviation is 2.7386127875258306\n"
     ]
    }
   ],
   "source": [
    "#taking a random list\n",
    "new4=[1,2,3,4,5,6,7,8,9]\n",
    "\n",
    "#find the lenght of the list1\n",
    "a=len(new4)\n",
    "# finding sum of the list1\n",
    "sum1=sum(new4)\n",
    "\n",
    "#taking average of the elements in the list1\n",
    "b= sum1/a\n",
    "\n",
    "list2=[]\n",
    "#print average\n",
    "print('mmean of the data is', b)\n",
    "\n",
    "#iterating through each element of the list1\n",
    "for i in new4:\n",
    "    #taking difference of each element of list1 with average\n",
    "    xi=i-b\n",
    "    #append the difference in new list2\n",
    "    list2.append(xi)\n",
    "\n",
    "list3=[]\n",
    "#iterating through each element of the list2\n",
    "for i in list2:\n",
    "    #taking sqaure of differences ( elements of list2 )\n",
    "    xs=i*i\n",
    "    #append the squares in new list3\n",
    "    list3.append(xs)\n",
    "\n",
    "#finding sum of list3\n",
    "sum2= sum(list3)\n",
    "#apply standard deviation formula \n",
    "dev=(sum2/(a-1))**0.5\n",
    "print('standard deviation is', dev)"
   ]
  }
 ],
 "metadata": {
  "kernelspec": {
   "display_name": "Python 3",
   "language": "python",
   "name": "python3"
  },
  "language_info": {
   "codemirror_mode": {
    "name": "ipython",
    "version": 3
   },
   "file_extension": ".py",
   "mimetype": "text/x-python",
   "name": "python",
   "nbconvert_exporter": "python",
   "pygments_lexer": "ipython3",
   "version": "3.11.4"
  }
 },
 "nbformat": 4,
 "nbformat_minor": 2
}
