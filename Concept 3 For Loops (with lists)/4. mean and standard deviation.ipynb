{
 "cells": [
  {
   "cell_type": "markdown",
   "metadata": {},
   "source": [
    "Given a list of numbers, find out the mean and standard deviation"
   ]
  },
  {
   "cell_type": "code",
   "execution_count": 3,
   "metadata": {},
   "outputs": [
    {
     "name": "stdout",
     "output_type": "stream",
     "text": [
      "standard deviation is 0.816496580927726\n"
     ]
    }
   ],
   "source": [
    "#taking a random list\n",
    "list4=[4,5,6,4,5,6]\n",
    "\n",
    "#find the lenght of the list4\n",
    "length=len(list4)\n",
    "# finding sum of the list4\n",
    "sum1=0\n",
    "for i in list4:\n",
    "    sum1+=i\n",
    "\n",
    "#taking average of the elements in the list4\n",
    "average= sum1/length\n",
    "#initialized a new variable sum_sq \n",
    "sum_sq=0\n",
    "#iterating through each element of the list4\n",
    "for i in list4:\n",
    "    #taking difference of each element of list1 with average\n",
    "    a=i-average\n",
    "    sum_sq+=a*a\n",
    "\n",
    "dev=(sum_sq/(length))**0.5\n",
    "print('standard deviation is', dev)"
   ]
  }
 ],
 "metadata": {
  "kernelspec": {
   "display_name": "Python 3",
   "language": "python",
   "name": "python3"
  },
  "language_info": {
   "codemirror_mode": {
    "name": "ipython",
    "version": 3
   },
   "file_extension": ".py",
   "mimetype": "text/x-python",
   "name": "python",
   "nbconvert_exporter": "python",
   "pygments_lexer": "ipython3",
   "version": "3.11.4"
  }
 },
 "nbformat": 4,
 "nbformat_minor": 2
}
