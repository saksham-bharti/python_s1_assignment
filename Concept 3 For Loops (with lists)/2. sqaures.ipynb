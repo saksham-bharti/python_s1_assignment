{
 "cells": [
  {
   "cell_type": "markdown",
   "metadata": {},
   "source": [
    "Given a list of numbers, find the squares of all the numbers."
   ]
  },
  {
   "cell_type": "code",
   "execution_count": 1,
   "metadata": {},
   "outputs": [
    {
     "name": "stdout",
     "output_type": "stream",
     "text": [
      "square of elements is: 1\n",
      "square of elements is: 4\n",
      "square of elements is: 9\n",
      "square of elements is: 16\n",
      "square of elements is: 25\n",
      "square of elements is: 36\n",
      "square of elements is: 49\n",
      "square of elements is: 64\n",
      "square of elements is: 81\n"
     ]
    }
   ],
   "source": [
    "#taking a random list\n",
    "list2=[1,2,3,4,5,6,7,8,9]\n",
    "\n",
    "#iterating through each element of the list\n",
    "for num in list2:\n",
    "    #finding the square of each element by it\n",
    "    sqar=num*num\n",
    "    print('square of elements is:',sqar)"
   ]
  }
 ],
 "metadata": {
  "kernelspec": {
   "display_name": "Python 3",
   "language": "python",
   "name": "python3"
  },
  "language_info": {
   "codemirror_mode": {
    "name": "ipython",
    "version": 3
   },
   "file_extension": ".py",
   "mimetype": "text/x-python",
   "name": "python",
   "nbconvert_exporter": "python",
   "pygments_lexer": "ipython3",
   "version": "3.11.4"
  }
 },
 "nbformat": 4,
 "nbformat_minor": 2
}
