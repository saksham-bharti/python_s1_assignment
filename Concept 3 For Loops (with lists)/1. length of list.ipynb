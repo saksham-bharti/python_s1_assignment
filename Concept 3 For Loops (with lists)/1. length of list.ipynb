{
 "cells": [
  {
   "cell_type": "markdown",
   "metadata": {},
   "source": [
    "Given a list of numbers, find out its length\n"
   ]
  },
  {
   "cell_type": "code",
   "execution_count": 4,
   "metadata": {},
   "outputs": [
    {
     "name": "stdout",
     "output_type": "stream",
     "text": [
      "length of list is 9\n"
     ]
    }
   ],
   "source": [
    "#taking a random list\n",
    "list_l=[1,2,3,4,5,6,7,8,9]\n",
    "\n",
    "#initializing a variable count to count the how many the loop ran\n",
    "count=0\n",
    "\n",
    "#iterating through each element of the list\n",
    "for i in list_l:\n",
    "    #increase the count by 1 each time when loop complete\n",
    "    count+=1\n",
    "\n",
    "print('length of list is', count)"
   ]
  }
 ],
 "metadata": {
  "kernelspec": {
   "display_name": "Python 3",
   "language": "python",
   "name": "python3"
  },
  "language_info": {
   "codemirror_mode": {
    "name": "ipython",
    "version": 3
   },
   "file_extension": ".py",
   "mimetype": "text/x-python",
   "name": "python",
   "nbconvert_exporter": "python",
   "pygments_lexer": "ipython3",
   "version": "3.11.4"
  }
 },
 "nbformat": 4,
 "nbformat_minor": 2
}
