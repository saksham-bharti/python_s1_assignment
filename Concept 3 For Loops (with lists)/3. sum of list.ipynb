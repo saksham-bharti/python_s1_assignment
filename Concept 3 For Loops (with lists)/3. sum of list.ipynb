{
 "cells": [
  {
   "cell_type": "markdown",
   "metadata": {},
   "source": [
    "Given a list of numbers, find the sum of all the numbers"
   ]
  },
  {
   "cell_type": "code",
   "execution_count": 1,
   "metadata": {},
   "outputs": [
    {
     "name": "stdout",
     "output_type": "stream",
     "text": [
      "sum of elements is 45\n"
     ]
    }
   ],
   "source": [
    "#taking a random list\n",
    "list3=[1,2,3,4,5,6,7,8,9]\n",
    "\n",
    "#initializing a variable to to add the element with the loop\n",
    "sum_l=0\n",
    "\n",
    "#iterating through each element of the list\n",
    "for elem in list3:\n",
    "    #adding the elements and updating the variable \n",
    "    sum_l=sum_l+elem\n",
    "\n",
    "\n",
    "print('sum of elements is', sum_l)"
   ]
  }
 ],
 "metadata": {
  "kernelspec": {
   "display_name": "Python 3",
   "language": "python",
   "name": "python3"
  },
  "language_info": {
   "codemirror_mode": {
    "name": "ipython",
    "version": 3
   },
   "file_extension": ".py",
   "mimetype": "text/x-python",
   "name": "python",
   "nbconvert_exporter": "python",
   "pygments_lexer": "ipython3",
   "version": "3.11.4"
  }
 },
 "nbformat": 4,
 "nbformat_minor": 2
}
