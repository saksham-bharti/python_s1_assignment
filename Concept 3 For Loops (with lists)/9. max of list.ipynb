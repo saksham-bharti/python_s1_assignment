{
 "cells": [
  {
   "cell_type": "markdown",
   "metadata": {},
   "source": [
    "Given a  list of numbers, find out the maximum number."
   ]
  },
  {
   "cell_type": "code",
   "execution_count": 1,
   "metadata": {},
   "outputs": [
    {
     "name": "stdout",
     "output_type": "stream",
     "text": [
      "maximun number in the list is : 9\n"
     ]
    }
   ],
   "source": [
    "#taking a random list\n",
    "list_m=[1,2,3,4,5,6,7,8,9]\n",
    "\n",
    "#initializing a variable whose value will be changed if it is not the max of the list\n",
    "maxi=list_m[0]\n",
    "\n",
    "#iterating through each element of the list\n",
    "for num in list_m:\n",
    "    #checking which element in the list is greater then the initailised variable(maxi)\n",
    "    if num>maxi:\n",
    "        #if element is greater the update the value of maxi with the greater num\n",
    "        maxi=num\n",
    "\n",
    "print(\"maximun number in the list is :\", maxi)\n",
    "\n"
   ]
  }
 ],
 "metadata": {
  "kernelspec": {
   "display_name": "Python 3",
   "language": "python",
   "name": "python3"
  },
  "language_info": {
   "codemirror_mode": {
    "name": "ipython",
    "version": 3
   },
   "file_extension": ".py",
   "mimetype": "text/x-python",
   "name": "python",
   "nbconvert_exporter": "python",
   "pygments_lexer": "ipython3",
   "version": "3.11.4"
  }
 },
 "nbformat": 4,
 "nbformat_minor": 2
}
